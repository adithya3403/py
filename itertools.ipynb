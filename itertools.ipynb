{
  "cells": [
    {
      "cell_type": "code",
      "metadata": {},
      "source": [
        "# To add a new cell, type '# %%'\n",
        "# To add a new markdown cell, type '# %% [markdown]'\n",
        "# %%\n",
        "from itertools import count\n",
        "for i in count(int(input())):\n",
        "    print(i)\n",
        "    if i>=11:\n",
        "        break\n"
      ],
      "outputs": [],
      "execution_count": null
    },
    {
      "cell_type": "code",
      "metadata": {},
      "source": [
        "from itertools import accumulate, takewhile\n",
        "nums=list(accumulate(range(8)))\n",
        "print(nums)\n",
        "print(list(takewhile(lambda x:x<=6, nums)))\n"
      ],
      "outputs": [],
      "execution_count": null
    },
    {
      "cell_type": "code",
      "metadata": {},
      "source": [
        "from itertools import product, permutations\n",
        "letters=[\"A\", \"B\", \"C\", \"D\"]\n",
        "z=list(permutations(letters))\n",
        "print(\"Length is\", len(z))\n",
        "for i in z:\n",
        "    print(i)\n"
      ],
      "outputs": [],
      "execution_count": null
    },
    {
      "cell_type": "code",
      "metadata": {},
      "source": [
        "from itertools import product\n",
        "a={1,2}\n",
        "print(len(list(product(range(3), a))))\n"
      ],
      "outputs": [],
      "execution_count": null
    },
    {
      "cell_type": "code",
      "metadata": {},
      "source": [
        "nums={1,2,3,4,5,6}\n",
        "nums={0,1,2,3} & nums\n",
        "nums=filter(lambda x:x>1, nums)\n",
        "print(len(list(nums)))\n"
      ],
      "outputs": [],
      "execution_count": null
    },
    {
      "cell_type": "code",
      "metadata": {},
      "source": [
        "def power(x, y):\n",
        "    if y==0:\n",
        "        return 1\n",
        "    else:\n",
        "        return x*power(x, y-1)\n",
        "print(power(2,3))\n",
        "\n",
        "\n"
      ],
      "outputs": [],
      "execution_count": null
    }
  ],
  "metadata": {
    "anaconda-cloud": {},
    "kernelspec": {
      "display_name": "Python 3",
      "language": "python",
      "name": "python3"
    },
    "language_info": {
      "codemirror_mode": {
        "name": "ipython",
        "version": 3
      },
      "file_extension": ".py",
      "mimetype": "text/x-python",
      "name": "python",
      "nbconvert_exporter": "python",
      "pygments_lexer": "ipython3",
      "version": "3.6.1"
    }
  },
  "nbformat": 4,
  "nbformat_minor": 4
}