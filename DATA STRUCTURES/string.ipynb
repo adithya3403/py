{
  "cells": [
    {
      "cell_type": "code",
      "execution_count": null,
      "metadata": {},
      "outputs": [],
      "source": [
        "x = \"Hello, World!\"\n",
        "print(x)\n"
      ]
    },
    {
      "cell_type": "code",
      "execution_count": null,
      "metadata": {},
      "outputs": [],
      "source": [
        "print('One \\nTwo \\nThree')\n",
        "print('Brian\\'s mother : He\\'s not  an agel. He\\'s a very naughty boy!')\n"
      ]
    },
    {
      "cell_type": "code",
      "execution_count": null,
      "metadata": {},
      "outputs": [],
      "source": [
        "x = \"awesome\"\n",
        "print(x[2])\n",
        "print(x[-2])\n",
        "print(\"\\n\")\n",
        "for c in x:\n",
        "    print(c)\n"
      ]
    },
    {
      "cell_type": "code",
      "execution_count": null,
      "metadata": {},
      "outputs": [],
      "source": [
        "x = \"I love Python\"\n",
        "if \"love\" in x:\n",
        "    print(\"Yes\")\n",
        "else:\n",
        "    print(\"No\")\n"
      ]
    },
    {
      "cell_type": "code",
      "execution_count": null,
      "metadata": {},
      "outputs": [],
      "source": [
        "res = 0\n",
        "s = 'xyz'\n",
        "if 'x' in s:\n",
        "    res += 1\n",
        "elif 'a' in s:\n",
        "    res += 1\n",
        "print(res)\n"
      ]
    },
    {
      "cell_type": "code",
      "execution_count": null,
      "metadata": {},
      "outputs": [],
      "source": [
        "print(\"spam\" * 3)\n",
        "print(4 * '2')\n"
      ]
    },
    {
      "cell_type": "code",
      "execution_count": null,
      "metadata": {},
      "outputs": [],
      "source": [
        "x = \"This is some text\"\n",
        "print(x.count(\"s\"))\n",
        "print(x.upper())\n",
        "print(x.lower())\n",
        "print(x.replace(\"some text\", \"awesome\"))\n",
        "print(len(x))\n"
      ]
    },
    {
      "cell_type": "code",
      "execution_count": null,
      "metadata": {},
      "outputs": [],
      "source": [
        "x = 'abc'\n",
        "x = x * len(x)\n",
        "print(x.count('a'))\n"
      ]
    },
    {
      "cell_type": "code",
      "execution_count": null,
      "metadata": {},
      "outputs": [],
      "source": [
        "s1 = input()\n",
        "s2 = input()\n",
        "n1 = s1.count(s2)\n",
        "n2 = len(s1)\n",
        "x = int(n1 * 100) / n2\n",
        "print(int(x))\n"
      ]
    },
    {
      "cell_type": "code",
      "execution_count": null,
      "metadata": {},
      "outputs": [],
      "source": [
        "#FORMATTING\n"
      ]
    },
    {
      "cell_type": "code",
      "execution_count": null,
      "metadata": {},
      "outputs": [],
      "source": [
        "print(\"{0}{1}{0}\".format(\"abra\", \"cad\"))\n"
      ]
    },
    {
      "cell_type": "code",
      "execution_count": null,
      "metadata": {},
      "outputs": [],
      "source": [
        "str = \"{c}, {b}, {a}\".format(a=5, b=9, c=7)\n",
        "print(str)\n"
      ]
    },
    {
      "cell_type": "code",
      "execution_count": null,
      "metadata": {},
      "outputs": [],
      "source": [
        "#FUNCTIONS\n"
      ]
    },
    {
      "cell_type": "code",
      "execution_count": null,
      "metadata": {},
      "outputs": [],
      "source": [
        "print(\", \".join([\"spam\", \"eggs\", \"ham\"]))\n",
        "print(\"Hello ME\".replace(\"ME\", \"world\"))\n",
        "print(\"this is a sentence.\".startswith(\"This\"))\n",
        "print(\"this is a sentence.\".endswith(\"sentence.\"))\n",
        "print(\"this is a sentence\".upper())\n",
        "print(\"this is a sentence\".lower())\n",
        "print(\"spam\", \"eggs\", \"ham\".split(\",\"))\n"
      ]
    },
    {
      "cell_type": "code",
      "execution_count": null,
      "metadata": {},
      "outputs": [],
      "source": [
        "print(min(1, 2, 3, 4, 0, 2, 1))\n",
        "print(max([1, 4, 9, 2, 5, 6, 8]))\n",
        "print(abs(-99))\n",
        "print(abs(42))\n",
        "print(sum([1, 2, 3, 4, 5]))\n"
      ]
    },
    {
      "cell_type": "code",
      "execution_count": null,
      "metadata": {},
      "outputs": [],
      "source": [
        "a = min([sum([11, 22]), max(abs(-30), 2)])\n",
        "print(a)\n"
      ]
    },
    {
      "cell_type": "code",
      "execution_count": null,
      "metadata": {},
      "outputs": [],
      "source": [
        "nums = [55, 44, 33, 22, 11]\n",
        "if all([i > 5 for i in nums]):\n",
        "    print(\"All larger than 5\")\n",
        "if any([i % 2 == 0 for i in nums]):\n",
        "    print(\"At least one is even\")\n",
        "for v in enumerate(nums):\n",
        "    print(v)\n"
      ]
    },
    {
      "cell_type": "code",
      "execution_count": null,
      "metadata": {},
      "outputs": [],
      "source": [
        "nums = [-1, 2, -3, 4, -5]\n",
        "if all([abs(i) < 3 for i in nums]):\n",
        "    print(1)\n",
        "else:\n",
        "    print(2)\n"
      ]
    },
    {
      "cell_type": "code",
      "execution_count": null,
      "metadata": {},
      "outputs": [],
      "source": [
        "nums = (55, 44, 33, 22)\n",
        "print(max(min(nums[:2]), abs(-42)))\n"
      ]
    },
    {
      "cell_type": "code",
      "execution_count": null,
      "metadata": {},
      "outputs": [],
      "source": [
        "#longest word in sentence\n",
        "print(max(input().split(), key=len))\n"
      ]
    },
    {
      "cell_type": "code",
      "execution_count": null,
      "metadata": {},
      "outputs": [],
      "source": [
        "#palindrome\n",
        "str = input(\"Enter string : \")\n",
        "str = str.casefold()\n",
        "n = len(str)\n",
        "for i in range(n):\n",
        "    if list(str[i]) == list(str[n - i - 1]):\n",
        "        print(\"Palindrome\")\n",
        "        break\n",
        "else:\n",
        "    print(\"Not palindrome\")\n"
      ]
    },
    {
      "cell_type": "code",
      "execution_count": null,
      "metadata": {},
      "outputs": [],
      "source": [
        "#sort in alphabetical order\n",
        "str = input(\"Enter string : \")\n",
        "words = str.split()\n",
        "words.sort()\n",
        "print(\"Sorted words are : \")\n",
        "for x in words:\n",
        "    print(x)\n"
      ]
    }
  ],
  "metadata": {
    "anaconda-cloud": {},
    "kernelspec": {
      "display_name": "Python 3",
      "language": "python",
      "name": "python3"
    },
    "language_info": {
      "codemirror_mode": {
        "name": "ipython",
        "version": 3
      },
      "file_extension": ".py",
      "mimetype": "text/x-python",
      "name": "python",
      "nbconvert_exporter": "python",
      "pygments_lexer": "ipython3",
      "version": "3.6.1"
    }
  },
  "nbformat": 4,
  "nbformat_minor": 4
}
