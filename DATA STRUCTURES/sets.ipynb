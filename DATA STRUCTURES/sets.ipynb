{
  "cells": [
    {
      "cell_type": "code",
      "metadata": {},
      "source": [
        "# To add a new cell, type '# %%'\n",
        "# To add a new markdown cell, type '# %% [markdown]'\n",
        "# %%\n",
        "numset={1,2,3,4,5}\n",
        "print(3 in numset)\n"
      ],
      "outputs": [],
      "execution_count": null
    },
    {
      "cell_type": "code",
      "metadata": {},
      "source": [
        "letters={\"a\", \"b\", \"c\", \"d\"}\n",
        "if \"e\" not in letters:\n",
        "    print(1)\n",
        "else:\n",
        "    print(2)\n"
      ],
      "outputs": [],
      "execution_count": null
    },
    {
      "cell_type": "code",
      "metadata": {},
      "source": [
        "nums={1,2,1,3,1,4,5,6}\n",
        "print(nums)\n",
        "nums.add(-7)\n",
        "nums.remove(3)\n",
        "print(nums)\n"
      ],
      "outputs": [],
      "execution_count": null
    },
    {
      "cell_type": "code",
      "metadata": {},
      "source": [
        "first={1,2,3,4,5,6}\n",
        "second={4,5,6,7,8,9}\n",
        "print(first | second)\n",
        "print(first & second)\n",
        "print(first - second)\n",
        "print(second - first)\n",
        "print(first ^ second)\n"
      ],
      "outputs": [],
      "execution_count": null
    },
    {
      "cell_type": "code",
      "metadata": {},
      "source": [
        "a={1,2,3}\n",
        "b={0,3,4,5}\n",
        "print(a & b)\n"
      ],
      "outputs": [],
      "execution_count": null
    },
    {
      "cell_type": "code",
      "metadata": {},
      "source": [
        "\n"
      ],
      "outputs": [],
      "execution_count": null
    },
    {
      "cell_type": "code",
      "metadata": {},
      "source": [
        "\n",
        "\n",
        "\n"
      ],
      "outputs": [],
      "execution_count": null
    }
  ],
  "metadata": {
    "anaconda-cloud": {},
    "kernelspec": {
      "display_name": "Python 3",
      "language": "python",
      "name": "python3"
    },
    "language_info": {
      "codemirror_mode": {
        "name": "ipython",
        "version": 3
      },
      "file_extension": ".py",
      "mimetype": "text/x-python",
      "name": "python",
      "nbconvert_exporter": "python",
      "pygments_lexer": "ipython3",
      "version": "3.6.1"
    }
  },
  "nbformat": 4,
  "nbformat_minor": 4
}