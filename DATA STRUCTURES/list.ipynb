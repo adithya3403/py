{
  "cells": [
    {
      "cell_type": "code",
      "execution_count": null,
      "metadata": {},
      "outputs": [],
      "source": [
        "names = [\"James\", \"Tom\", \"Amy\"]\n",
        "print(names[1])\n",
        "print(names[-1])\n"
      ]
    },
    {
      "cell_type": "code",
      "execution_count": null,
      "metadata": {},
      "outputs": [],
      "source": [
        "x = [[2, 4, 6], [8, 6, 4]]\n",
        "print(x[0][2] + x[1][2])\n"
      ]
    },
    {
      "cell_type": "code",
      "execution_count": null,
      "metadata": {},
      "outputs": [],
      "source": [
        "words = [\"spam\", \"egg\", \"spam\", \"sausage\"]\n",
        "print(\"spam\" in words)\n",
        "print(\"egg\" in words)\n",
        "print(\"tomato\" in words)\n"
      ]
    },
    {
      "cell_type": "code",
      "execution_count": null,
      "metadata": {},
      "outputs": [],
      "source": [
        "x = [2, 4, 6, 8]\n",
        "for n in x:\n",
        "    print(n)\n"
      ]
    },
    {
      "cell_type": "code",
      "execution_count": null,
      "metadata": {},
      "outputs": [],
      "source": [
        "#product of all terms\n",
        "x = [2, 5, 7, 3, 1]\n",
        "res = 1\n",
        "for n in x:\n",
        "    res = res * n\n",
        "print(res)\n"
      ]
    },
    {
      "cell_type": "code",
      "execution_count": null,
      "metadata": {},
      "outputs": [],
      "source": [
        "x = [3, 1, 2, 5, 3, 1]\n",
        "x.append(8)\n",
        "x.insert(2, 6)\n",
        "x.remove(2)\n",
        "print(len(x))\n"
      ]
    },
    {
      "cell_type": "code",
      "execution_count": null,
      "metadata": {},
      "outputs": [],
      "source": [
        "x = [8, 5, 42, 11, 20, 4]\n",
        "x.sort()\n",
        "print(max(x) - min(x) + x[2])\n"
      ]
    },
    {
      "cell_type": "code",
      "execution_count": null,
      "metadata": {},
      "outputs": [],
      "source": [
        "import string\n",
        "\n",
        "text = input()\n",
        "words = sum([i.strip(string.punctuation).isalpha() for i in text.split()])\n",
        "length = len(text) - text.count(\" \")\n",
        "x = length / words\n",
        "print(x)\n"
      ]
    },
    {
      "cell_type": "code",
      "execution_count": null,
      "metadata": {},
      "outputs": [],
      "source": [
        "a = [i for i in range(20) if i % 3 == 0]\n",
        "print(a)\n",
        "print(\"is same as\")\n",
        "list = []\n",
        "for i in range(20):\n",
        "    if i % 3 == 0:\n",
        "        list.append(i)\n",
        "print(list, end=\" \")\n"
      ]
    },
    {
      "cell_type": "code",
      "execution_count": null,
      "metadata": {},
      "outputs": [],
      "source": [
        "# longest word in sentence\n",
        "x = input().split()\n",
        "k = max(len(p) for p in x)\n",
        "for i in x:\n",
        "    if len(i) == k:\n",
        "        print(\"the longest word is :\", i)\n"
      ]
    },
    {
      "cell_type": "code",
      "execution_count": null,
      "metadata": {},
      "outputs": [],
      "source": [
        "#LIST SLICING\n"
      ]
    },
    {
      "cell_type": "code",
      "execution_count": null,
      "metadata": {},
      "outputs": [],
      "source": [
        "sq = [0, 1, 4, 9, 16, 25, 36, 49, 64, 81]\n",
        "print(sq[2:6])\n",
        "print(sq[3:8])\n",
        "print(sq[0:1])\n",
        "print(sq[:7])\n",
        "print(sq[7:])\n",
        "print(sq[::2])\n",
        "print(sq[2:8:3])\n",
        "print(sq[1::4])\n",
        "print(sq[1:-1])\n",
        "print(sq[7:5:-1])\n"
      ]
    },
    {
      "cell_type": "code",
      "execution_count": null,
      "metadata": {},
      "outputs": [],
      "source": [
        "# LIST COMPREHENSIONS"
      ]
    },
    {
      "cell_type": "code",
      "execution_count": null,
      "metadata": {},
      "outputs": [],
      "source": [
        "# [expression for val in collection]\n",
        "# [expression for val in collection if <test>]\n",
        "# [expression for val in collection if <test1> and <test2>]"
      ]
    },
    {
      "cell_type": "code",
      "execution_count": null,
      "metadata": {},
      "outputs": [],
      "source": [
        "# squares=[]\n",
        "# for i in range(1,101):\n",
        "#     squares.append(i**2)\n",
        "# print(squares)\n",
        "# print(\"\\n\")\n",
        "squares = [i**2 for i in range(1, 101)]\n",
        "print(squares)\n"
      ]
    },
    {
      "cell_type": "code",
      "execution_count": null,
      "metadata": {},
      "outputs": [],
      "source": [
        "remainders = [x**2 % 5 for x in range(1, 101)]\n",
        "print(remainders)\n",
        "# rem=[x**2%p for x in range(0,p)]\n",
        "# print(rem)\n"
      ]
    },
    {
      "cell_type": "code",
      "execution_count": null,
      "metadata": {},
      "outputs": [],
      "source": [
        "#[1,4,9,16,25,36]\n",
        "e1 = []\n",
        "for x in range(1, 7):\n",
        "    e1.append(x**2)\n",
        "print(e1)\n",
        "print(\"is same as\")\n",
        "e2 = [x**2 for x in range(1, 7)]\n",
        "print(e2)\n"
      ]
    },
    {
      "cell_type": "code",
      "execution_count": null,
      "metadata": {},
      "outputs": [],
      "source": [
        "e1 = []\n",
        "for x in range(6, 0, -1):\n",
        "    e1.append(x**2)\n",
        "print(e1)\n",
        "print(\"is same as\")\n",
        "e2 = [x**2 for x in range(6, 0, -1)]\n",
        "print(e2)\n"
      ]
    },
    {
      "cell_type": "code",
      "execution_count": null,
      "metadata": {},
      "outputs": [],
      "source": [
        "cubes = [i**3 for i in range(5)]\n",
        "print(cubes)\n"
      ]
    },
    {
      "cell_type": "code",
      "execution_count": null,
      "metadata": {},
      "outputs": [],
      "source": [
        "nums = [i * 2 for i in range(10)]\n",
        "print(nums)\n"
      ]
    },
    {
      "cell_type": "code",
      "execution_count": null,
      "metadata": {},
      "outputs": [],
      "source": [
        "evens = [i**2 for i in range(10) if i**2 % 2 == 0]\n",
        "print(evens)\n"
      ]
    },
    {
      "cell_type": "code",
      "execution_count": null,
      "metadata": {},
      "outputs": [],
      "source": [
        "nums = (55, 44, 33, 22)\n",
        "print(max(min(nums[:2]), abs(-42)))\n"
      ]
    },
    {
      "cell_type": "code",
      "execution_count": null,
      "metadata": {},
      "outputs": [],
      "source": [
        "nums = [10, 9, 8, 7, 6, 5]\n",
        "nums[0] = nums[1] - 5\n",
        "if 4 in nums:\n",
        "    print(nums[3])\n",
        "else:\n",
        "    print(nums[4])\n"
      ]
    },
    {
      "cell_type": "code",
      "execution_count": null,
      "metadata": {},
      "outputs": [],
      "source": [
        "txt = input()\n",
        "a = txt.count(\" \")\n",
        "text = txt.split()\n",
        "words = 0\n",
        "for x in text:\n",
        "    words += 1\n",
        "n = len(txt)\n",
        "print((n - a) / words)\n"
      ]
    },
    {
      "cell_type": "code",
      "execution_count": null,
      "metadata": {},
      "outputs": [],
      "source": [
        "\n"
      ]
    }
  ],
  "metadata": {
    "anaconda-cloud": {},
    "kernelspec": {
      "display_name": "Python 3",
      "language": "python",
      "name": "python3"
    },
    "language_info": {
      "codemirror_mode": {
        "name": "ipython",
        "version": 3
      },
      "file_extension": ".py",
      "mimetype": "text/x-python",
      "name": "python",
      "nbconvert_exporter": "python",
      "pygments_lexer": "ipython3",
      "version": "3.6.1"
    }
  },
  "nbformat": 4,
  "nbformat_minor": 4
}
