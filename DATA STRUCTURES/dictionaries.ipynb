{
  "cells": [
    {
      "cell_type": "markdown",
      "metadata": {},
      "source": [
        "BEGINNER\n"
      ]
    },
    {
      "cell_type": "code",
      "execution_count": null,
      "metadata": {},
      "outputs": [],
      "source": [
        "ages = {\"Dave\": 24, \"Mary\": 42, \"John\": 58, \"Gtm\": 11}\n",
        "print(ages[\"Mary\"])\n"
      ]
    },
    {
      "cell_type": "code",
      "execution_count": null,
      "metadata": {},
      "outputs": [],
      "source": [
        "nums = {1: \"one\", 2: \"two\", 3: \"three\"}\n",
        "print(1 in nums)\n",
        "print(\"three\" in nums)\n",
        "print(4 not in nums)\n"
      ]
    },
    {
      "cell_type": "code",
      "execution_count": null,
      "metadata": {},
      "outputs": [],
      "source": [
        "fib = {1: 1, 2: 1, 3: 2, 4: 3}\n",
        "print(fib.get(4, 0) + fib.get(7, 5))\n"
      ]
    },
    {
      "cell_type": "code",
      "execution_count": null,
      "metadata": {},
      "outputs": [],
      "source": [
        "pairs = {1: \"apple\", \"orange\": [2, 3, 4], True: False, 12: \"True\"}\n",
        "print(pairs.get(\"orange\"))\n",
        "print(pairs.get(7, 42))\n",
        "print(pairs.get(12345, \"not found\"))\n"
      ]
    },
    {
      "cell_type": "code",
      "execution_count": null,
      "metadata": {},
      "outputs": [],
      "source": [
        "age = int(input())\n",
        "new = 0\n",
        "old = 0\n",
        "for x in data.values():\n",
        "    old += 5 if x < 18 else 20\n",
        "for var in data.values():\n",
        "    new += 5 if var < age else 20\n",
        "if age < 18:\n",
        "    print(int(new - old) / old * 100)\n",
        "else:\n",
        "    print(0)\n"
      ]
    }
  ],
  "metadata": {
    "anaconda-cloud": {},
    "kernelspec": {
      "display_name": "Python 3",
      "language": "python",
      "name": "python3"
    },
    "language_info": {
      "codemirror_mode": {
        "name": "ipython",
        "version": 3
      },
      "file_extension": ".py",
      "mimetype": "text/x-python",
      "name": "python",
      "nbconvert_exporter": "python",
      "pygments_lexer": "ipython3",
      "version": "3.6.1"
    }
  },
  "nbformat": 4,
  "nbformat_minor": 4
}
