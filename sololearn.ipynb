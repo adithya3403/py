{
  "cells": [
    {
      "cell_type": "markdown",
      "metadata": {},
      "source": [
        "# PYTHON CORE PROJECTS"
      ]
    },
    {
      "cell_type": "code",
      "execution_count": null,
      "metadata": {},
      "outputs": [],
      "source": [
        "# Basic Concepts\n",
        "# Exponentiation\n",
        "n = 30\n",
        "a = (2**30)\n",
        "b = a / 100\n",
        "print(b)"
      ]
    },
    {
      "cell_type": "code",
      "execution_count": null,
      "metadata": {},
      "outputs": [],
      "source": [
        "# Strings and variables\n",
        "# Simple calc\n",
        "print(int(input())+int(input()))"
      ]
    },
    {
      "cell_type": "code",
      "execution_count": null,
      "metadata": {},
      "outputs": [],
      "source": [
        "# Control Structures\n",
        "# FizzBuzz\n",
        "for x in range(1, int(input()), 2):\n",
        "    if x % 3 == 0 and x % 5 == 0: print(\"Sololearn\")\n",
        "    if x % 3 == 0: print(\"Solo\")\n",
        "    if x % 5 == 0: print(\"Learn\")\n",
        "    else: print(x)\n"
      ]
    },
    {
      "cell_type": "code",
      "execution_count": null,
      "metadata": {},
      "outputs": [],
      "source": [
        "# Functions and Modules\n",
        "# C to F\n",
        "def conv(c):\n",
        "    return 32 + (9 * c) / 5\n",
        "print(conv(int(input())))\n"
      ]
    },
    {
      "cell_type": "code",
      "execution_count": null,
      "metadata": {},
      "outputs": [],
      "source": [
        "# Exceptions and Files\n",
        "# Book titles\n",
        "for line in file:\n",
        "    line = line.rstrip(\"\\n\")\n",
        "    print(line[0] + str(len(line)))\n"
      ]
    },
    {
      "cell_type": "code",
      "execution_count": null,
      "metadata": {},
      "outputs": [],
      "source": [
        "# More types\n",
        "# Longest word\n",
        "x = input().split()\n",
        "k = max(len(p) for p in x)\n",
        "for i in x:\n",
        "    if len(i) == k:\n",
        "        print(i)\n"
      ]
    },
    {
      "cell_type": "code",
      "execution_count": 1,
      "metadata": {},
      "outputs": [
        {
          "name": "stdout",
          "output_type": "stream",
          "text": [
            "0\n",
            "1\n",
            "1\n",
            "2\n",
            "3\n",
            "5\n"
          ]
        }
      ],
      "source": [
        "# functional programming\n",
        "# fibonacci\n",
        "def fib(n):\n",
        "    return n if n<=1 else fib(n-1) + fib(n-2)\n",
        "for i in range(int(input())):\n",
        "    print(fib(i))\n"
      ]
    },
    {
      "cell_type": "markdown",
      "metadata": {},
      "source": [
        "# PYTHON DS PROJECTS"
      ]
    },
    {
      "cell_type": "code",
      "execution_count": null,
      "metadata": {},
      "outputs": [],
      "source": [
        "# Working with strings\n",
        "# letter frequency\n",
        "s1, s2 = input(), input()\n",
        "n1 = s1.count(s2)\n",
        "n2 = len(s1)\n",
        "x = (n1 * 100) / n2\n",
        "print(int(x))\n"
      ]
    },
    {
      "cell_type": "code",
      "execution_count": null,
      "metadata": {},
      "outputs": [],
      "source": [
        "# Lists\n",
        "# average word length\n",
        "txt = input()\n",
        "a = txt.count(\" \")\n",
        "text = txt.split()\n",
        "w = 0\n",
        "for x in text:\n",
        "    w += 1\n",
        "n = len(txt)\n",
        "print((n - a) / w)\n"
      ]
    },
    {
      "cell_type": "code",
      "execution_count": null,
      "metadata": {},
      "outputs": [],
      "source": [
        "# Dicts, Tuples and sets\n",
        "# Revenue growth analysis\n",
        "age = int(input())\n",
        "new = 0\n",
        "old = 0\n",
        "for x in data.values():\n",
        "    old += 5 if x < 18 else 20\n",
        "for var in data.values():\n",
        "    new += 5 if var < age else 20\n",
        "if age < 18:\n",
        "    z = (new - old) * 100 / (old)\n",
        "    print(int(z))\n",
        "else:\n",
        "    print(0)\n"
      ]
    },
    {
      "cell_type": "markdown",
      "metadata": {},
      "source": [
        "# BEGINNER PYTHON PROJECTS"
      ]
    },
    {
      "cell_type": "code",
      "execution_count": null,
      "metadata": {},
      "outputs": [],
      "source": [
        "# Basic Concepts\n",
        "# flight time\n",
        "d = 7452.0\n",
        "s = 550.0\n",
        "print(d/s)\n"
      ]
    },
    {
      "cell_type": "code",
      "execution_count": null,
      "metadata": {},
      "outputs": [],
      "source": [
        "# Strings\n",
        "# Leaderboard\n",
        "print(\"1.\\n2.\\n3.\\n4.\\n5.\\n6.\\n7.\\n8.\\n9.\\n\")\n"
      ]
    },
    {
      "cell_type": "code",
      "execution_count": 2,
      "metadata": {},
      "outputs": [
        {
          "name": "stdout",
          "output_type": "stream",
          "text": [
            "4.0\n"
          ]
        }
      ],
      "source": [
        "# variables\n",
        "# tip calc\n",
        "print((int(input()) * 20) / 100)\n"
      ]
    },
    {
      "cell_type": "code",
      "execution_count": null,
      "metadata": {},
      "outputs": [],
      "source": [
        "# Control flow\n",
        "# BMI calc\n",
        "w = float(input())\n",
        "h = float(input())\n",
        "r = w / (h**2)\n",
        "if r < 18.5:\n",
        "    print(\"Underweight\")\n",
        "elif r >= 18.5 and r < 25:\n",
        "    print(\"Normal\")\n",
        "elif r >= 25 and r < 30:\n",
        "    print(\"Overweight\")\n",
        "elif r > 30:\n",
        "    print(\"Obesity\")\n"
      ]
    },
    {
      "cell_type": "code",
      "execution_count": null,
      "metadata": {},
      "outputs": [],
      "source": [
        "# Lists\n",
        "# sum of consecutive nums\n",
        "sum = 0\n",
        "for i in range(int(input()) + 1):\n",
        "    sum += i\n",
        "print(sum)\n"
      ]
    },
    {
      "cell_type": "code",
      "execution_count": null,
      "metadata": {},
      "outputs": [],
      "source": [
        "# Functions\n",
        "# Search engine\n",
        "def search(text, word):\n",
        "    return 'Word found' if word in text else 'Word not found'\n",
        "print(search(input(), input()))"
      ]
    }
  ],
  "metadata": {
    "anaconda-cloud": {},
    "kernelspec": {
      "display_name": "Python 3",
      "language": "python",
      "name": "python3"
    },
    "language_info": {
      "codemirror_mode": {
        "name": "ipython",
        "version": 3
      },
      "file_extension": ".py",
      "mimetype": "text/x-python",
      "name": "python",
      "nbconvert_exporter": "python",
      "pygments_lexer": "ipython3",
      "version": "3.9.6"
    }
  },
  "nbformat": 4,
  "nbformat_minor": 4
}
