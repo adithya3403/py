{
  "cells": [
    {
      "cell_type": "code",
      "metadata": {},
      "source": [
        "# To add a new cell, type '# %%'\n",
        "# To add a new markdown cell, type '# %% [markdown]'\n",
        "# %%\n",
        "#Python Core project 1\n",
        "#Basic Concepts\n",
        "#Exponentiation\n",
        "n=30\n",
        "a=(2**30)\n",
        "b=a/100\n",
        "print(b)\n"
      ],
      "outputs": [],
      "execution_count": null
    },
    {
      "cell_type": "code",
      "metadata": {},
      "source": [
        "#Python Core project2\n",
        "#Strings and variables\n",
        "#Simple calc\n",
        "x=int(input())\n",
        "y=int(input())\n",
        "print(x+y)\n"
      ],
      "outputs": [],
      "execution_count": null
    },
    {
      "cell_type": "code",
      "metadata": {},
      "source": [
        "#Python core project 3\n",
        "#Control Structures\n",
        "#FizzBuzz\n",
        "n=int(input())\n",
        "for x in range(1,n,2):\n",
        "    if x%3==0 and x%5==0:\n",
        "        print(\"Sololearn\")\n",
        "    elif x%3==0:\n",
        "        print(\"Solo\")\n",
        "    elif x%5==0:\n",
        "        print(\"Learn\")\n",
        "    else:\n",
        "        print(x)\n"
      ],
      "outputs": [],
      "execution_count": null
    },
    {
      "cell_type": "code",
      "metadata": {},
      "source": [
        "#Python Core project 4\n",
        "#Functions and Modules\n",
        "#C to F\n",
        "c=int(input())\n",
        "def conv(c):\n",
        "    return (32+(9*c)/5)\n",
        "f=conv(c)\n",
        "print(f)\n"
      ],
      "outputs": [],
      "execution_count": null
    },
    {
      "cell_type": "code",
      "metadata": {},
      "source": [
        "#Python Core project 5\n",
        "#Exceptions and Files\n",
        "#Book titles\n",
        "for line in file:\n",
        "    line=line.rstrip(\"\\n\")\n",
        "    print(line[0]+str(len(line)))\n"
      ],
      "outputs": [],
      "execution_count": null
    },
    {
      "cell_type": "code",
      "metadata": {},
      "source": [
        "#Python Core project 6\n",
        "#More types\n",
        "#Longest word\n",
        "x=input().split()\n",
        "k=max(len(p) for p in x)\n",
        "for i in x:\n",
        "    if len(i)==k:\n",
        "        print(i)\n"
      ],
      "outputs": [],
      "execution_count": null
    },
    {
      "cell_type": "code",
      "metadata": {},
      "source": [
        "#Python core project 7\n",
        "#functional programming\n",
        "#fibonacci\n",
        "num=int(input())\n",
        "def fib(n):\n",
        "    if n<=1:\n",
        "        return n\n",
        "    else:\n",
        "        return fib(n-1)+fib(n-2)\n",
        "for i in range(num):\n",
        "    print(fib(i))\n"
      ],
      "outputs": [],
      "execution_count": null
    },
    {
      "cell_type": "code",
      "metadata": {},
      "source": [
        "#Python Ds project 1\n",
        "#Working wit strings\n",
        "#letter frequency\n",
        "s1=input()\n",
        "s2=input()\n",
        "n1=s1.count(s2)\n",
        "n2=len(s1)\n",
        "x=(n1*100)/n2\n",
        "print(int(x))\n"
      ],
      "outputs": [],
      "execution_count": null
    },
    {
      "cell_type": "code",
      "metadata": {},
      "source": [
        "#Python DS project 2\n",
        "#Lists\n",
        "#average word length\n",
        "txt=input()\n",
        "a=txt.count(\" \")\n",
        "text=txt.split()\n",
        "w=0\n",
        "for x in text:\n",
        "    w+=1\n",
        "n=len(txt)\n",
        "print((n-a)/w)\n"
      ],
      "outputs": [],
      "execution_count": null
    },
    {
      "cell_type": "code",
      "metadata": {},
      "source": [
        "#Python Ds project 3\n",
        "#Dicts, Tuples and sets\n",
        "#Revenue growth analysis\n",
        "age=int(input())\n",
        "new=0\n",
        "old=0\n",
        "for x in data.values():\n",
        "    old+=5 if x<18 else 20\n",
        "for var in data.values():\n",
        "    new+=5 if var<age else 20\n",
        "if age<18:\n",
        "    z=(new-old)*100/(old)\n",
        "    print(int(z))\n",
        "else:\n",
        "    print(0)\n"
      ],
      "outputs": [],
      "execution_count": null
    },
    {
      "cell_type": "code",
      "metadata": {},
      "source": [
        "#Beginner py project 1\n",
        "#Basic Concepts\n",
        "#flight time\n",
        "d=7452.0\n",
        "s=550.0\n",
        "t=d/s\n",
        "print(t)\n"
      ],
      "outputs": [],
      "execution_count": null
    },
    {
      "cell_type": "code",
      "metadata": {},
      "source": [
        "#Beginner py project 2\n",
        "#Strings\n",
        "#Leaderboard\n",
        "print(\"1.\\n2.\\n3.\\n4.\\n5.\\n6.\\n7.\\n8.\\n9.\\n\")\n"
      ],
      "outputs": [],
      "execution_count": null
    },
    {
      "cell_type": "code",
      "metadata": {},
      "source": [
        "#Beginner py project 3\n",
        "#variables\n",
        "#tip calc\n",
        "bill=int(input())\n",
        "x=(bill*20)/100\n",
        "print(x)\n"
      ],
      "outputs": [],
      "execution_count": null
    },
    {
      "cell_type": "code",
      "metadata": {},
      "source": [
        "#Beginner py project 4\n",
        "#Control flow\n",
        "#BMI calc\n",
        "w=float(input())\n",
        "h=float(input())\n",
        "r=w/(h**2)\n",
        "if r<18.5:\n",
        "    print(\"Underweight\")\n",
        "elif r>=18.5 and r<25:\n",
        "    print(\"Normal\")\n",
        "elif r>=25 and r<30:\n",
        "    print(\"Overweight\")\n",
        "elif r>30:\n",
        "    print(\"Obesity\")\n",
        "    \n"
      ],
      "outputs": [],
      "execution_count": null
    },
    {
      "cell_type": "code",
      "metadata": {},
      "source": [
        "#Beginner py project 5\n",
        "#Lists\n",
        "#sum of consecutive nums\n",
        "n=int(input())\n",
        "sum=0\n",
        "for i in range(n+1):\n",
        "    sum+=i\n",
        "print(sum)\n"
      ],
      "outputs": [],
      "execution_count": null
    },
    {
      "cell_type": "code",
      "metadata": {},
      "source": [
        "#Beginner py project 6\n",
        "#Functions\n",
        "#Search engine\n",
        "text=input()\n",
        "word=input()\n",
        "def search(text, word):\n",
        "    if word in text:\n",
        "        print(\"Word found\")\n",
        "    else:\n",
        "        print(\"word not found\")\n",
        "search(text, word)\n"
      ],
      "outputs": [],
      "execution_count": null
    },
    {
      "cell_type": "code",
      "metadata": {},
      "source": [
        "\n",
        "\n",
        "\n"
      ],
      "outputs": [],
      "execution_count": null
    }
  ],
  "metadata": {
    "anaconda-cloud": {},
    "kernelspec": {
      "display_name": "Python 3",
      "language": "python",
      "name": "python3"
    },
    "language_info": {
      "codemirror_mode": {
        "name": "ipython",
        "version": 3
      },
      "file_extension": ".py",
      "mimetype": "text/x-python",
      "name": "python",
      "nbconvert_exporter": "python",
      "pygments_lexer": "ipython3",
      "version": "3.6.1"
    }
  },
  "nbformat": 4,
  "nbformat_minor": 4
}