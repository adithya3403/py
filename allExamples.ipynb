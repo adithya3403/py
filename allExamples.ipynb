{
  "cells": [
    {
      "cell_type": "code",
      "execution_count": null,
      "metadata": {},
      "outputs": [],
      "source": [
        "# Hello World\n",
        "print(\"Hello, World!\")"
      ]
    },
    {
      "cell_type": "code",
      "execution_count": null,
      "metadata": {},
      "outputs": [],
      "source": [
        "# Add two numbers\n",
        "def add(a, b):\n",
        "    return a + b\n",
        "x, y = (int(input()) for _ in range(2))\n",
        "print(add(x, y))"
      ]
    },
    {
      "cell_type": "code",
      "execution_count": null,
      "metadata": {},
      "outputs": [],
      "source": [
        "# Square root of a number\n",
        "def sqrt(n):\n",
        "    return n**0.5\n",
        "print(sqrt(int(input())))"
      ]
    },
    {
      "cell_type": "code",
      "execution_count": null,
      "metadata": {},
      "outputs": [],
      "source": [
        "# Area of a triangle\n",
        "print(\"Enter three sides of traingle : \")\n",
        "a, b, c = (int(input()) for _ in range(3))\n",
        "s = (a + b + c) / 2\n",
        "area = (s * (s - a) * (s - b) * (s - c))**0.5\n",
        "print(\"The area of triangle is\", area)"
      ]
    },
    {
      "cell_type": "code",
      "execution_count": null,
      "metadata": {},
      "outputs": [],
      "source": [
        "# Swap two variables\n",
        "def swap(a, b):\n",
        "    a, b = b, a\n",
        "    return a, b\n",
        "print(swap(int(input()), int(input())))"
      ]
    },
    {
      "cell_type": "code",
      "execution_count": null,
      "metadata": {},
      "outputs": [],
      "source": [
        "# roots of quadratic equation\n",
        "def rootsofeqn(a, b, c):\n",
        "    d = b**2 - 4 * a * c\n",
        "    if d > 0:\n",
        "        print('Roots are real and different')\n",
        "        print((-b + d**0.5) / (2 * a), (-b - d**0.5) / (2 * a))\n",
        "    elif d == 0:\n",
        "        print('Roots are real and same')\n",
        "        print(-b / (2 * a))\n",
        "    else:\n",
        "        print('Roots are imaginary')\n",
        "        real = -b / (2 * a)\n",
        "        img = d**0.5 / (2 * a)\n",
        "        print(f\"{real} + {img}i\")\n",
        "        print(f\"{real} - {img}i\")\n",
        "a, b, c = (int(input()) for _ in range(3))\n",
        "rootsofeqn(a, b, c)"
      ]
    },
    {
      "cell_type": "code",
      "execution_count": null,
      "metadata": {},
      "outputs": [],
      "source": [
        "# Kilometers to miles\n",
        "km = float(input(\"Enter kilometers : \"))\n",
        "print(\"%0.2f kilometers is equal to %0.2f miles\" % (km, km*0.62137))"
      ]
    },
    {
      "cell_type": "code",
      "execution_count": null,
      "metadata": {},
      "outputs": [],
      "source": [
        "# Celsius to Fahrenheit\n",
        "def celtofah(cel):\n",
        "    return cel * 9 / 5 + 32\n",
        "print('Enter temperature in Celsius : ', end=' ')\n",
        "print(celtofah(int(input())))"
      ]
    },
    {
      "cell_type": "code",
      "execution_count": null,
      "metadata": {},
      "outputs": [],
      "source": [
        "# Positive, Negative or Zero\n",
        "def checkposzeroneg(n):\n",
        "    return 'Positive' if n > 0 else 'Negative' if n < 0 else 'Zero'\n",
        "print(checkposzeroneg(int(input())))"
      ]
    },
    {
      "cell_type": "code",
      "execution_count": null,
      "metadata": {},
      "outputs": [],
      "source": [
        "# Check even or odd\n",
        "def evenodd(n):\n",
        "    return 'Even' if n % 2 == 0 else 'Odd'\n",
        "print(evenodd(int(input())))"
      ]
    },
    {
      "cell_type": "code",
      "execution_count": null,
      "metadata": {},
      "outputs": [],
      "source": [
        "# Leap year or not\n",
        "def leapyear(n):\n",
        "    return True if (n % 4 == 0 and n % 100 != 0 or n % 400 == 0) else False\n",
        "print(leapyear(int(input())))"
      ]
    },
    {
      "cell_type": "code",
      "execution_count": null,
      "metadata": {},
      "outputs": [],
      "source": [
        "# compare two numbers\n",
        "def comparetwonums(a, b):\n",
        "    if a > b: return a\n",
        "    if a < b: return b\n",
        "    else: return 'equal'\n",
        "print(comparetwonums(int(input()), int(input())))"
      ]
    },
    {
      "cell_type": "code",
      "execution_count": null,
      "metadata": {},
      "outputs": [],
      "source": [
        "# Compare three numbers\n",
        "def compare3nums(a, b, c):\n",
        "    if a >= b and a >= c: return a\n",
        "    if b >= a and b >= c: return b\n",
        "    if c >= a and c >= b: return c\n",
        "    else: return 'equal'\n",
        "print(compare3nums(int(input()), int(input()), int(input())))\n"
      ]
    },
    {
      "cell_type": "code",
      "execution_count": null,
      "metadata": {},
      "outputs": [],
      "source": [
        "# sum of natural numbers upto n\n",
        "def sumofnatnums(n):\n",
        "    return int(n * (n + 1) / 2)\n",
        "print(sumofnatnums(int(input())))\n"
      ]
    },
    {
      "cell_type": "code",
      "execution_count": null,
      "metadata": {},
      "outputs": [],
      "source": [
        "# Check prime number\n",
        "def checkprime(n):\n",
        "    if n == 1:\n",
        "        return False\n",
        "    for x in range(2, n):\n",
        "        if n % x == 0:\n",
        "            return False\n",
        "    else:\n",
        "        return True\n",
        "print(checkprime(int(input())))"
      ]
    },
    {
      "cell_type": "code",
      "execution_count": null,
      "metadata": {},
      "outputs": [],
      "source": [
        "# Print primes in interval\n",
        "def printprimes(a, b):\n",
        "    l = []\n",
        "    for i in range(a, b + 1):\n",
        "        if i > 1:\n",
        "            for j in range(2, i):\n",
        "                if (i % j) == 0:\n",
        "                    break\n",
        "            else:\n",
        "                l.append(i)\n",
        "    return l\n",
        "print(printprimes(int(input()), int(input())))\n"
      ]
    },
    {
      "cell_type": "code",
      "execution_count": null,
      "metadata": {},
      "outputs": [],
      "source": [
        "# factorial of a number\n",
        "def fac(n):\n",
        "    return 1 if n == 0 else n * fac(n - 1)\n",
        "print(fac(int(input())))"
      ]
    },
    {
      "cell_type": "code",
      "execution_count": null,
      "metadata": {},
      "outputs": [],
      "source": [
        "# Multiplication table\n",
        "def multable(n):\n",
        "    for i in range(1, 11):\n",
        "        print(n, 'x', i, '=', n * i)\n",
        "print(multable(int(input())))"
      ]
    },
    {
      "cell_type": "code",
      "execution_count": null,
      "metadata": {},
      "outputs": [],
      "source": [
        "# factors of a number\n",
        "def printfactors(n):\n",
        "    return [i for i in range(1, n + 1) if n % i == 0]\n",
        "print(printfactors(int(input())))"
      ]
    },
    {
      "cell_type": "code",
      "execution_count": null,
      "metadata": {},
      "outputs": [],
      "source": [
        "# Fibonacci series\n",
        "def fib(n):\n",
        "    return n if n <= 1 else fib(n - 1) + fib(n - 2)\n",
        "for i in range(int(input())):\n",
        "    print(fib(i))"
      ]
    },
    {
      "cell_type": "code",
      "execution_count": null,
      "metadata": {},
      "outputs": [],
      "source": [
        "# Decimal to binary, octal and hexadecimal\n",
        "dec = int(input(\"Enter number : \"))\n",
        "print(\"The decimal value of\", dec, \"is : \")\n",
        "print(bin(dec), \"in binary\")\n",
        "print(oct(dec), \"in octal\")\n",
        "print(hex(dec), \"in hexadecimal\")"
      ]
    },
    {
      "cell_type": "code",
      "execution_count": null,
      "metadata": {},
      "outputs": [],
      "source": [
        "# ASCII value of char\n",
        "c = input(\"Enter character to find ASCII value : \")\n",
        "print(\"The ASCII value of\", c, \"is\", ord(c))"
      ]
    },
    {
      "cell_type": "code",
      "execution_count": null,
      "metadata": {},
      "outputs": [],
      "source": [
        "# find HCF and LCM\n",
        "def findHCF(x, y):\n",
        "    if x > y:\n",
        "        s = y\n",
        "    else:\n",
        "        s = x\n",
        "    for i in range(1, s + 1):\n",
        "        if ((x % i == 0) and (y % i == 0)):\n",
        "            hcf = i\n",
        "    return hcf\n",
        "a = int(input(\"Enter first number : \"))\n",
        "b = int(input(\"Enter second number : \"))\n",
        "print(\"The HCF of\", a, \"and\", b, \"is\", findHCF(a, b))\n",
        "z = (a * b) / (findHCF(a, b))\n",
        "print(\"The LCM of\", a, \"and\", b, \"is\", int(z))\n"
      ]
    },
    {
      "cell_type": "code",
      "execution_count": null,
      "metadata": {},
      "outputs": [],
      "source": [
        "# calculator in py\n",
        "def calc(a, b, op):\n",
        "    if op == '+': return a + b\n",
        "    if op == '-': return a - b\n",
        "    if op == '*': return a * b\n",
        "    if op == '/': return a / b\n",
        "    return 'error'\n",
        "print(calc(int(input()), int(input()), input()))"
      ]
    },
    {
      "cell_type": "code",
      "execution_count": null,
      "metadata": {},
      "outputs": [],
      "source": [
        "# Display calendar\n",
        "import calendar\n",
        "y = int(input(\"Enter year : \"))\n",
        "m = int(input(\"Enter month number : \"))\n",
        "print(calendar.month(y, m))"
      ]
    },
    {
      "cell_type": "code",
      "execution_count": null,
      "metadata": {},
      "outputs": [],
      "source": [
        "#Add two matrices\n",
        "x = [[12, 7, 3], [4, 5, 6], [7, 8, 9]]\n",
        "y = [[5, 8, 1], [6, 7, 3], [4, 5, 9]]\n",
        "r = [[0, 0, 0], [0, 0, 0], [0, 0, 0]]\n",
        "for i in range(len(x)):\n",
        "    for j in range(len(y)):\n",
        "        r[i][j] = x[i][j] + y[i][j]\n",
        "print(\"Result is :\")\n",
        "for p in r:\n",
        "    print(p)\n"
      ]
    },
    {
      "cell_type": "code",
      "execution_count": null,
      "metadata": {},
      "outputs": [],
      "source": [
        "#Subtract two matrices\n",
        "x = [[12, 7, 3], [4, 5, 6], [7, 8, 9]]\n",
        "y = [[5, 8, 1], [6, 7, 3], [4, 5, 9]]\n",
        "r = [[0, 0, 0], [0, 0, 0], [0, 0, 0]]\n",
        "for i in range(len(x)):\n",
        "    for j in range(len(y)):\n",
        "        r[i][j] = x[i][j] - y[i][j]\n",
        "print(\"Result is :\")\n",
        "for p in r:\n",
        "    print(p)\n"
      ]
    },
    {
      "cell_type": "code",
      "execution_count": null,
      "metadata": {},
      "outputs": [],
      "source": [
        "#multiply two matrices\n",
        "x = [[12, 7, 3], [4, 5, 6], [7, 8, 9]]\n",
        "y = [[5, 8, 1, 2], [6, 7, 3, 0], [4, 5, 9, 1]]\n",
        "r = [[0, 0, 0, 0], [0, 0, 0, 0], [0, 0, 0, 0]]\n",
        "for i in range(len(x)):\n",
        "    for j in range(len(y[0])):\n",
        "        for k in range(len(y)):\n",
        "            r[i][j] += x[i][k] * y[k][j]\n",
        "\n",
        "print(\"Result is :\")\n",
        "for p in r:\n",
        "    print(p)\n"
      ]
    },
    {
      "cell_type": "code",
      "execution_count": null,
      "metadata": {},
      "outputs": [],
      "source": [
        "# Transpose of matrix\n",
        "import numpy as np\n",
        "\n",
        "A = np.array([[1, 2, 3], [0, 1, 2], [0, 0, 1]])\n",
        "print(\"Matrix A is\\n\", A)\n",
        "B = np.transpose(A)\n",
        "print(\"\\nTranspose of A is \\n\", B)\n"
      ]
    },
    {
      "cell_type": "code",
      "execution_count": null,
      "metadata": {},
      "outputs": [],
      "source": [
        "# Det of matrix\n",
        "import numpy as np\n",
        "\n",
        "A = np.array([[1, 2, 3], [2, 3, 4], [3, 4, 5]])\n",
        "D = np.linalg.det(A)\n",
        "if D == 0:\n",
        "    print(\"Singular matrix \\nDet is zero\")\n",
        "else:\n",
        "    print(\"Det is %0.2f\" % (D))\n"
      ]
    },
    {
      "cell_type": "code",
      "execution_count": null,
      "metadata": {},
      "outputs": [],
      "source": [
        "# take matrix input\n",
        "r = int(input(\"\\nEnter number of rows : \"))\n",
        "c = int(input(\"Enter number of columns : \"))\n",
        "\n",
        "matrix = []\n",
        "\n",
        "print(\"\\nEnter entries row-wise : \")\n",
        "\n",
        "for x in range(r):\n",
        "    m = []\n",
        "    for y in range(c):\n",
        "        m.append(int(input()))\n",
        "    matrix.append(m)\n",
        "\n",
        "print(\"\\nThe matrix is : \")\n",
        "\n",
        "for p in range(r):\n",
        "    print(*matrix[p])\n"
      ]
    },
    {
      "cell_type": "code",
      "execution_count": null,
      "metadata": {},
      "outputs": [],
      "source": [
        "# Inverse of matrix\n",
        "import numpy\n",
        "\n",
        "r = int(input(\"\\nEnter number of rows : \"))\n",
        "c = int(input(\"Enter number of columns : \"))\n",
        "matrix = []\n",
        "print(\"\\nEnter entries row-wise : \")\n",
        "for x in range(r):\n",
        "    m = []\n",
        "    for y in range(c):\n",
        "        m.append(int(input()))\n",
        "    matrix.append(m)\n",
        "print(\"\\nThe matrix is : \")\n",
        "for p in range(r):\n",
        "    print(*matrix[p])\n",
        "print(\"\\nInverse of Matrix :\", numpy.linalg.inv(matrix))\n",
        "3\n"
      ]
    },
    {
      "cell_type": "code",
      "execution_count": null,
      "metadata": {},
      "outputs": [],
      "source": [
        "# Sum of elements of matrix\n",
        "rows = int(input(\"Enter number of rows : \"))\n",
        "columns = int(input(\"Enter number of columns : \"))\n",
        "\n",
        "matrix = []\n",
        "\n",
        "print(\"\\nEnter elements of matrix row-wise : \")\n",
        "\n",
        "for x in range(rows):\n",
        "    a = []\n",
        "    for y in range(columns):\n",
        "        b = int(input())\n",
        "        a.append(b)\n",
        "    matrix.append(a)\n",
        "\n",
        "sum = 0\n",
        "\n",
        "print(\"\\nThe matrix is : \")\n",
        "\n",
        "for p in matrix:\n",
        "    print(*p, sep=\" \")\n",
        "    for k in p:\n",
        "        sum += k\n",
        "\n",
        "print(\"\\nSum of all elements in matrix = \", sum)\n"
      ]
    },
    {
      "cell_type": "code",
      "execution_count": null,
      "metadata": {},
      "outputs": [],
      "source": [
        "# Rank of matrix\n",
        "import numpy\n",
        "\n",
        "r = int(input(\"\\nEnter number of rows : \"))\n",
        "c = int(input(\"Enter number of columns : \"))\n",
        "matrix = []\n",
        "print(\"\\nEnter entries row-wise : \")\n",
        "for x in range(r):\n",
        "    m = []\n",
        "    for y in range(c):\n",
        "        m.append(int(input()))\n",
        "    matrix.append(m)\n",
        "print(\"\\nThe matrix is : \")\n",
        "for p in range(r):\n",
        "    print(*matrix[p])\n",
        "print(\"\\nThe rank is :\", numpy.linalg.matrix_rank(matrix))\n"
      ]
    },
    {
      "cell_type": "code",
      "execution_count": null,
      "metadata": {},
      "outputs": [],
      "source": [
        "# Palindrome\n",
        "str = input(\"Enter :\")\n",
        "str = str.casefold()\n",
        "if str[:] == str[::-1]:\n",
        "    print(str, \"is a palindrome\")\n",
        "else:\n",
        "    print(str, \"is not a palindrome\")\n"
      ]
    },
    {
      "cell_type": "code",
      "execution_count": null,
      "metadata": {},
      "outputs": [],
      "source": [
        "# remove punctuation from string\n",
        "p = '''!()-[]}{;:'\"/\\,<>.?@#$%^&*_~'''\n",
        "str = input(\"Enter a string so that python can remove punctuations : \")\n",
        "np = \"\"\n",
        "for c in str:\n",
        "    if c not in p:\n",
        "        np += c\n",
        "print(\"After removing punctuaations, the string is : \")\n",
        "print(np)\n"
      ]
    },
    {
      "cell_type": "code",
      "execution_count": null,
      "metadata": {},
      "outputs": [],
      "source": [
        "# sort in alphabetical order\n",
        "str = input(\"Enter string to sort in order : \")\n",
        "w = str.split()\n",
        "w.sort()\n",
        "print(\"After sorting, result is : \")\n",
        "for x in w:\n",
        "    print(x)\n"
      ]
    },
    {
      "cell_type": "code",
      "execution_count": null,
      "metadata": {},
      "outputs": [],
      "source": [
        "# count number of vowels\n",
        "vowels = \"aeiou\"\n",
        "str = input(\"Enter string to count vowels : \")\n",
        "str = str.casefold()\n",
        "c = {}.fromkeys(vowels, 0)\n",
        "for char in str:\n",
        "    if char in vowels:\n",
        "        c[char] += 1\n",
        "print(c)\n"
      ]
    },
    {
      "cell_type": "code",
      "execution_count": null,
      "metadata": {},
      "outputs": [],
      "source": [
        "# create QR code\n",
        "import pyqrcode\n",
        "import png\n",
        "from pyqrcode import QRCode\n",
        "\n",
        "link = input(\"Enter link here : \")\n",
        "url = pyqrcode.create(link)\n",
        "url.png(\"myqr.png\", scale=6)\n"
      ]
    },
    {
      "cell_type": "code",
      "execution_count": null,
      "metadata": {},
      "outputs": [],
      "source": [
        "# num and alphabet count\n",
        "string = input()\n",
        "count1 = 0\n",
        "count2 = 0\n",
        "for i in string:\n",
        "    if (i.isdigit()):\n",
        "        count1 = count1 + 1\n",
        "    count2 = count2 + 1\n",
        "print(\"Alphabet count:\", count2 - count1)\n",
        "print(\"Number count:\", count1)\n"
      ]
    },
    {
      "cell_type": "code",
      "execution_count": null,
      "metadata": {},
      "outputs": [],
      "source": [
        "# password generator\n",
        "import random\n",
        "\n",
        "entries = \"abcd1234efgh5678\"\n",
        "digits = 8\n",
        "password = ''\n",
        "for i in range(0, digits):\n",
        "    password += entries[random.randrange(0, len(entries))]\n",
        "print(\"Password :\", password)\n"
      ]
    },
    {
      "cell_type": "code",
      "execution_count": null,
      "metadata": {},
      "outputs": [],
      "source": [
        "# guess game\n",
        "print(\"I have a number in my mind. Can you guess it?\")\n",
        "print(\"You have three tries\")\n",
        "num = \"26\"\n",
        "guess = \"\"\n",
        "guess_count = 0\n",
        "guess_limit = 3\n",
        "out_of_guesses = False\n",
        "while guess != num and not (out_of_guesses):\n",
        "    if guess_count < guess_limit:\n",
        "        guess = input(\"Enter guess:\")\n",
        "        guess_count += 1\n",
        "    else:\n",
        "        out_of_guesses = True\n",
        "if out_of_guesses:\n",
        "    print(\"Out of guesses, YOU LOSE!\")\n",
        "    print(\"Answer is\", num)\n",
        "else:\n",
        "    print(\"YOU WIN!\")\n"
      ]
    }
  ],
  "metadata": {
    "anaconda-cloud": {},
    "kernelspec": {
      "display_name": "Python 3",
      "language": "python",
      "name": "python3"
    },
    "language_info": {
      "codemirror_mode": {
        "name": "ipython",
        "version": 3
      },
      "file_extension": ".py",
      "mimetype": "text/x-python",
      "name": "python",
      "nbconvert_exporter": "python",
      "pygments_lexer": "ipython3",
      "version": "3.6.1"
    }
  },
  "nbformat": 4,
  "nbformat_minor": 4
}
