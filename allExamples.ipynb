{
  "cells": [
    {
      "cell_type": "code",
      "execution_count": null,
      "source": [
        "# Hello World\r\n",
        "print(\"Hello, World!\")\r\n"
      ],
      "outputs": [],
      "metadata": {}
    },
    {
      "cell_type": "code",
      "execution_count": null,
      "source": [
        "# Add two numbers \r\n",
        "a=int(input(\"Enter first number : \"))\r\n",
        "b=int(input(\"Enter second number : \"))\r\n",
        "sum=a+b\r\n",
        "print(\"The sum of {0} and {1} is {2}\".format(a, b, sum))\r\n"
      ],
      "outputs": [],
      "metadata": {}
    },
    {
      "cell_type": "code",
      "execution_count": null,
      "source": [
        "# Square root of a number \r\n",
        "n=float(input(\"Enter number to find square root : \"))\r\n",
        "print(\"The square root of {0} is {1}\".format(n, n**0.5))\r\n"
      ],
      "outputs": [],
      "metadata": {}
    },
    {
      "cell_type": "code",
      "execution_count": null,
      "source": [
        "# Area of a triangle \r\n",
        "print(\"Enter three sides of traingle : \")\r\n",
        "a=int(input(\"Enter first side : \"))\r\n",
        "b=int(input(\"Enter second side : \"))\r\n",
        "c=int(input(\"Enter third side : \"))\r\n",
        "s=(a+b+c)/2\r\n",
        "area=(s*(s-a)*(s-b)*(s-c))**0.5\r\n",
        "print(\"The area of triangle is\", area)\r\n"
      ],
      "outputs": [],
      "metadata": {}
    },
    {
      "cell_type": "code",
      "execution_count": null,
      "source": [
        "# Swap two variables\r\n",
        "x=int(input(\"Enter first number : \"))\r\n",
        "y=int(input(\"Enter second number : \"))\r\n",
        "x,y=y,x\r\n",
        "print(\"After swapping : \")\r\n",
        "print(\"First number =\", x)\r\n",
        "print(\"Second number =\", y)\r\n"
      ],
      "outputs": [],
      "metadata": {}
    },
    {
      "cell_type": "code",
      "execution_count": null,
      "source": [
        "# roots of quadratic equation\r\n",
        "import cmath\r\n",
        "a=int(input(\"Enter coefficient of x^2 : \"))\r\n",
        "b=int(input(\"Enter coefficient of x : \"))\r\n",
        "c=int(input(\"Enter constant value : \"))\r\n",
        "d=(b**2)-(4*a*c)\r\n",
        "x=(-b-cmath.sqrt(d))/(2*a)\r\n",
        "y=(-b+cmath.sqrt(d))/(2*a)\r\n",
        "print(\"The roots are {0} and {1}\".format(x,y))\r\n"
      ],
      "outputs": [],
      "metadata": {}
    },
    {
      "cell_type": "code",
      "execution_count": null,
      "source": [
        "# Kilometers to miles\r\n",
        "km=float(input(\"Enter kilometers : \"))\r\n",
        "m=km*0.62137\r\n",
        "print(\"%0.2f kilometers is equal to %0.2f miles\"%(km,m))\r\n"
      ],
      "outputs": [],
      "metadata": {}
    },
    {
      "cell_type": "code",
      "execution_count": null,
      "source": [
        "# Celsius to Fahrenheit\r\n",
        "c=float(input(\"Enter temperature in celsius : \"))\r\n",
        "f=(c*1.8)+32\r\n",
        "print(\"%0.2f degree Celcius is equal to %0.2f degree Fahrenheit\"%(c,f))\r\n"
      ],
      "outputs": [],
      "metadata": {}
    },
    {
      "cell_type": "code",
      "execution_count": null,
      "source": [
        "# Positive, Negative or Zero\r\n",
        "n=int(input(\"Enter number : \"))\r\n",
        "if n>0:\r\n",
        "    print(n, \"is a positive number\")\r\n",
        "elif n==0:\r\n",
        "    print(n, \"is zero\")\r\n",
        "else:\r\n",
        "    print(n, \"is a negative number\")\r\n"
      ],
      "outputs": [],
      "metadata": {}
    },
    {
      "cell_type": "code",
      "execution_count": null,
      "source": [
        "# Check even or odd\r\n",
        "n=int(input(\"Enter a number : \"))\r\n",
        "if n%2==0:\r\n",
        "    print(n, \"is an even number\")\r\n",
        "else:\r\n",
        "    print(n, \"is an odd number\")\r\n",
        "    \r\n"
      ],
      "outputs": [],
      "metadata": {}
    },
    {
      "cell_type": "code",
      "execution_count": null,
      "source": [
        "# Leap year or not \r\n",
        "yr=int(input(\"Enter year : \"))\r\n",
        "if (yr%4==0) and (yr%100!=0) or (yr%400==0):\r\n",
        "    print(yr, \"is a leap year\")\r\n",
        "else:\r\n",
        "    print(yr, \"is not a leap year\")\r\n"
      ],
      "outputs": [],
      "metadata": {}
    },
    {
      "cell_type": "code",
      "execution_count": null,
      "source": [
        "# compare two numbers\r\n",
        "a=int(input(\"Enter 1st number : \"))\r\n",
        "b=int(input(\"Enter 2nd number : \"))\r\n",
        "if a>b:\r\n",
        "    print(a, \"is greater than\", b)\r\n",
        "elif a==b:\r\n",
        "    print(a, \"is equal to\", b)\r\n",
        "elif a<b:\r\n",
        "    print(a, \"is less than\", b)\r\n"
      ],
      "outputs": [],
      "metadata": {}
    },
    {
      "cell_type": "code",
      "execution_count": null,
      "source": [
        "# Compare three numbers\r\n",
        "a=float(input(\"Enter first number : \"))\r\n",
        "b=float(input(\"Enter second number : \"))\r\n",
        "c=float(input(\"Enter third number : \"))\r\n",
        "if a>=b and a>=c:\r\n",
        "    print(a, \"is greater than\", b, \"and\", c)\r\n",
        "elif b>=a and b>=c:\r\n",
        "    print(b, \"is greater than\", a, \"and\", c)\r\n",
        "else:\r\n",
        "    print(c, \"is greater than\", a, \"and\", b)\r\n"
      ],
      "outputs": [],
      "metadata": {}
    },
    {
      "cell_type": "code",
      "execution_count": null,
      "source": [
        "# sum of natural numbers upto n\r\n",
        "def sum(n):\r\n",
        "    if n<=1:\r\n",
        "        return n\r\n",
        "    else:\r\n",
        "        return n+sum(n-1)\r\n",
        "n=int(input(\"Enter number : \"))\r\n",
        "if n<0:\r\n",
        "    print(\"Invalid input\")\r\n",
        "else:\r\n",
        "    print(\"The sum is\", sum(n))\r\n"
      ],
      "outputs": [],
      "metadata": {}
    },
    {
      "cell_type": "code",
      "execution_count": null,
      "source": [
        "# Check prime number \r\n",
        "n=int(input(\"Enter a number : \"))\r\n",
        "if n>1:\r\n",
        "    for i in range(2,n):\r\n",
        "        if (n%i==0):\r\n",
        "            print(n, \"is not a prime number\")\r\n",
        "            break\r\n",
        "    else:\r\n",
        "        print(n, \"is a prime number\")\r\n",
        "else:\r\n",
        "    print(n, \"is a prime number\")\r\n"
      ],
      "outputs": [],
      "metadata": {}
    },
    {
      "cell_type": "code",
      "execution_count": null,
      "source": [
        "# Print primes in interval\r\n",
        "print(\"Enter interval to find prime numbers : \")\r\n",
        "lower=int(input(\"Enter lower limit : \"))\r\n",
        "upper=int(input(\"Enter upper limit : \"))\r\n",
        "print(\"Prime numbers between\", lower, \"and\", upper, \"are : \")\r\n",
        "for n in range(lower, upper+1):\r\n",
        "    if n>1:\r\n",
        "        for i in range(2, n):\r\n",
        "            if (n%i==0):\r\n",
        "                break\r\n",
        "        else:\r\n",
        "            print(n)\r\n"
      ],
      "outputs": [],
      "metadata": {}
    },
    {
      "cell_type": "code",
      "execution_count": null,
      "source": [
        "# factorial of number \r\n",
        "def f(n):\r\n",
        "    if n==1:\r\n",
        "        return n\r\n",
        "    else:\r\n",
        "        return n*f(n-1)\r\n",
        "n=int(input(\"Enter number : \"))\r\n",
        "if n<0:\r\n",
        "    print(\"Invalid input\")\r\n",
        "elif n==0:\r\n",
        "    print(\"Factorial of 0 is 1\")\r\n",
        "else:\r\n",
        "    print(\"Factorial of\", n, \"is\", f(n))\r\n"
      ],
      "outputs": [],
      "metadata": {}
    },
    {
      "cell_type": "code",
      "execution_count": null,
      "source": [
        "# Multiplication table\r\n",
        "n=int(input(\"Enter number to print its multiplication table : \"))\r\n",
        "for i in range(1,11):\r\n",
        "    print(n, \"x\", i, \"=\", n*i)\r\n"
      ],
      "outputs": [],
      "metadata": {}
    },
    {
      "cell_type": "code",
      "execution_count": null,
      "source": [
        "#factors of a number\r\n",
        "n=int(input(\"Enter a number : \"))\r\n",
        "f=0\r\n",
        "list=[]\r\n",
        "for i in range(1,n+1):\r\n",
        "    if n%i==0:\r\n",
        "        f+=1\r\n",
        "        list.append(i)\r\n",
        "# print(\"Number of factors are\", f)\r\n",
        "print(\"Factors of\", n, \"are\", list)\r\n"
      ],
      "outputs": [],
      "metadata": {}
    },
    {
      "cell_type": "code",
      "execution_count": null,
      "source": [
        "# Fibonacci series\r\n",
        "num=int(input())\r\n",
        "def fib(n):\r\n",
        "    if n<=1:\r\n",
        "        return n\r\n",
        "    else:\r\n",
        "        return fib(n-1)+fib(n-2)\r\n",
        "print(\"Fibonacci series upto\", num, \"is : \")\r\n",
        "for i in range(num):\r\n",
        "    print(fib(i))\r\n"
      ],
      "outputs": [],
      "metadata": {}
    },
    {
      "cell_type": "code",
      "execution_count": null,
      "source": [
        "# Decimal to binary, octal and hexadecimal\r\n",
        "dec=int(input(\"Enter number : \"))\r\n",
        "print(\"The decimal value of\", dec, \"is : \")\r\n",
        "print(bin(dec), \"in binary\")\r\n",
        "print(oct(dec), \"in octal\")\r\n",
        "print(hex(dec), \"in hexadecimal\")\r\n"
      ],
      "outputs": [],
      "metadata": {}
    },
    {
      "cell_type": "code",
      "execution_count": null,
      "source": [
        "# ASCII value of char\r\n",
        "c=input(\"Enter character to find ASCII value : \")\r\n",
        "print(\"The ASCII value of\", c, \"is\", ord(c))\r\n"
      ],
      "outputs": [],
      "metadata": {}
    },
    {
      "cell_type": "code",
      "execution_count": null,
      "source": [
        "# find HCF and LCM\r\n",
        "def findHCF(x,y):\r\n",
        "    if x>y:\r\n",
        "        s=y\r\n",
        "    else:\r\n",
        "        s=x\r\n",
        "    for i in range(1,s+1):\r\n",
        "        if ((x%i==0) and (y%i==0)):\r\n",
        "            hcf=i\r\n",
        "    return hcf\r\n",
        "a=int(input(\"Enter first number : \"))\r\n",
        "b=int(input(\"Enter second number : \"))\r\n",
        "print(\"The HCF of\", a, \"and\", b, \"is\", findHCF(a,b))\r\n",
        "z=(a*b)/(findHCF(a,b))\r\n",
        "print(\"The LCM of\", a, \"and\", b, \"is\", int(z))\r\n"
      ],
      "outputs": [],
      "metadata": {}
    },
    {
      "cell_type": "code",
      "execution_count": null,
      "source": [
        "# calculator\r\n",
        "a=float(input(\"Enter first number : \"))\r\n",
        "b=float(input(\"Enter second number : \"))\r\n",
        "sign=input(\"Enter sign(+,-,*,/) : \")\r\n",
        "if sign==\"+\":\r\n",
        "    print(\"{0}+{1}={2}\".format(a,b,a+b))\r\n",
        "elif sign==\"-\":\r\n",
        "    print(\"{0}-{1}={2}\".format(a,b,a-b))\r\n",
        "elif sign==\"*\":\r\n",
        "    print(\"{0}x{1}={2}\".format(a,b,a*b))\r\n",
        "elif sign==\"/\":\r\n",
        "    print(\"{0}/{1}={2}\".format(a,b,a/b))\r\n",
        "else:\r\n",
        "    print(\"Invalid sign enetered\")\r\n"
      ],
      "outputs": [],
      "metadata": {}
    },
    {
      "cell_type": "code",
      "execution_count": null,
      "source": [
        "# Display calendar\r\n",
        "import calendar\r\n",
        "y=int(input(\"Enter year : \"))\r\n",
        "m=int(input(\"Enter month number : \"))\r\n",
        "print(calendar.month(y,m))\r\n"
      ],
      "outputs": [],
      "metadata": {}
    },
    {
      "cell_type": "code",
      "execution_count": null,
      "source": [
        "#Add two matrices\r\n",
        "x=[[12,7,3],\r\n",
        "    [4,5,6],\r\n",
        "    [7,8,9]]\r\n",
        "y=[[5,8,1],\r\n",
        "    [6,7,3],\r\n",
        "    [4,5,9]]\r\n",
        "r=[[0,0,0],\r\n",
        "    [0,0,0],\r\n",
        "    [0,0,0]]\r\n",
        "for i in range(len(x)):\r\n",
        "    for j in range(len(y)):\r\n",
        "        r[i][j]=x[i][j]+y[i][j]\r\n",
        "print(\"Result is :\")\r\n",
        "for p in r:\r\n",
        "    print(p)\r\n"
      ],
      "outputs": [],
      "metadata": {}
    },
    {
      "cell_type": "code",
      "execution_count": null,
      "source": [
        "#Subtract two matrices\r\n",
        "x=[[12,7,3],\r\n",
        "    [4,5,6],\r\n",
        "    [7,8,9]]\r\n",
        "y=[[5,8,1],\r\n",
        "    [6,7,3],\r\n",
        "    [4,5,9]]\r\n",
        "r=[[0,0,0],\r\n",
        "    [0,0,0],\r\n",
        "    [0,0,0]]\r\n",
        "for i in range(len(x)):\r\n",
        "    for j in range(len(y)):\r\n",
        "        r[i][j]=x[i][j]-y[i][j]\r\n",
        "print(\"Result is :\")\r\n",
        "for p in r:\r\n",
        "    print(p)\r\n"
      ],
      "outputs": [],
      "metadata": {}
    },
    {
      "cell_type": "code",
      "execution_count": null,
      "source": [
        "#multiply two matrices\r\n",
        "x=[[12,7,3],\r\n",
        "    [4,5,6],\r\n",
        "    [7,8,9]]\r\n",
        "y=[[5,8,1,2],\r\n",
        "    [6,7,3,0],\r\n",
        "    [4,5,9,1]]\r\n",
        "r=[[0,0,0,0],\r\n",
        "    [0,0,0,0],\r\n",
        "    [0,0,0,0]]\r\n",
        "for i in range(len(x)):\r\n",
        "    for j in range(len(y[0])):\r\n",
        "        for k in range(len(y)):\r\n",
        "            r[i][j]+=x[i][k]*y[k][j]\r\n",
        "    \r\n",
        "print(\"Result is :\")\r\n",
        "for p in r:\r\n",
        "    print(p)\r\n"
      ],
      "outputs": [],
      "metadata": {}
    },
    {
      "cell_type": "code",
      "execution_count": null,
      "source": [
        "# Transpose of matrix\r\n",
        "import numpy as np\r\n",
        "A=np.array([[1, 2, 3], [0, 1, 2], [0, 0, 1]])\r\n",
        "print(\"Matrix A is\\n\", A)\r\n",
        "B=np.transpose(A)\r\n",
        "print(\"\\nTranspose of A is \\n\", B)\r\n"
      ],
      "outputs": [],
      "metadata": {}
    },
    {
      "cell_type": "code",
      "execution_count": null,
      "source": [
        "# Det of matrix\r\n",
        "import numpy as np\r\n",
        "A=np.array([[1, 2, 3], [2, 3, 4], [3, 4, 5]])\r\n",
        "D=np.linalg.det(A)\r\n",
        "if D==0:\r\n",
        "    print(\"Singular matrix \\nDet is zero\")\r\n",
        "else:\r\n",
        "    print(\"Det is %0.2f\"%(D))\r\n"
      ],
      "outputs": [],
      "metadata": {}
    },
    {
      "cell_type": "code",
      "execution_count": null,
      "source": [
        "# take matrix input\r\n",
        "r=int(input(\"\\nEnter number of rows : \"))\r\n",
        "c=int(input(\"Enter number of columns : \"))\r\n",
        "\r\n",
        "matrix=[]\r\n",
        "\r\n",
        "print(\"\\nEnter entries row-wise : \")\r\n",
        "\r\n",
        "for x in range(r):\r\n",
        "    m=[]\r\n",
        "    for y in range(c):\r\n",
        "        m.append(int(input()))\r\n",
        "    matrix.append(m)\r\n",
        "\r\n",
        "print(\"\\nThe matrix is : \")\r\n",
        "\r\n",
        "for p in range(r):\r\n",
        "    print(*matrix[p])\r\n",
        "    \r\n"
      ],
      "outputs": [],
      "metadata": {}
    },
    {
      "cell_type": "code",
      "execution_count": null,
      "source": [
        "# Inverse of matrix\r\n",
        "import numpy\r\n",
        "r=int(input(\"\\nEnter number of rows : \"))\r\n",
        "c=int(input(\"Enter number of columns : \"))\r\n",
        "matrix=[]\r\n",
        "print(\"\\nEnter entries row-wise : \")\r\n",
        "for x in range(r):\r\n",
        "    m=[]\r\n",
        "    for y in range(c):\r\n",
        "        m.append(int(input()))\r\n",
        "    matrix.append(m)\r\n",
        "print(\"\\nThe matrix is : \")\r\n",
        "for p in range(r):\r\n",
        "    print(*matrix[p])\r\n",
        "print(\"\\nInverse of Matrix :\", numpy.linalg.inv(matrix))\r\n",
        "3\r\n"
      ],
      "outputs": [],
      "metadata": {}
    },
    {
      "cell_type": "code",
      "execution_count": null,
      "source": [
        "# Sum of elements of matrix\r\n",
        "rows=int(input(\"Enter number of rows : \"))\r\n",
        "columns=int(input(\"Enter number of columns : \"))\r\n",
        "\r\n",
        "matrix=[]\r\n",
        "\r\n",
        "print(\"\\nEnter elements of matrix row-wise : \")\r\n",
        "\r\n",
        "for x in range(rows):\r\n",
        "    a=[]\r\n",
        "    for y in range(columns):\r\n",
        "        b=int(input())\r\n",
        "        a.append(b)\r\n",
        "    matrix.append(a)\r\n",
        "\r\n",
        "sum=0\r\n",
        "\r\n",
        "print(\"\\nThe matrix is : \")\r\n",
        "\r\n",
        "for p in matrix:\r\n",
        "    print(*p, sep=\" \")\r\n",
        "    for k in p:\r\n",
        "        sum+=k\r\n",
        "\r\n",
        "print(\"\\nSum of all elements in matrix = \", sum)\r\n"
      ],
      "outputs": [],
      "metadata": {}
    },
    {
      "cell_type": "code",
      "execution_count": null,
      "source": [
        "# Rank of matrix\r\n",
        "import numpy\r\n",
        "r=int(input(\"\\nEnter number of rows : \"))\r\n",
        "c=int(input(\"Enter number of columns : \"))\r\n",
        "matrix=[]\r\n",
        "print(\"\\nEnter entries row-wise : \")\r\n",
        "for x in range(r):\r\n",
        "    m=[]\r\n",
        "    for y in range(c):\r\n",
        "        m.append(int(input()))\r\n",
        "    matrix.append(m)\r\n",
        "print(\"\\nThe matrix is : \")\r\n",
        "for p in range(r):\r\n",
        "    print(*matrix[p])\r\n",
        "print(\"\\nThe rank is :\", numpy.linalg.matrix_rank(matrix))\r\n"
      ],
      "outputs": [],
      "metadata": {}
    },
    {
      "cell_type": "code",
      "execution_count": null,
      "source": [
        "# Palindrome\r\n",
        "str=input(\"Enter :\")\r\n",
        "str=str.casefold()\r\n",
        "if str[:]==str[::-1]:\r\n",
        "    print(str, \"is a palindrome\")\r\n",
        "else:\r\n",
        "    print(str, \"is not a palindrome\")\r\n"
      ],
      "outputs": [],
      "metadata": {}
    },
    {
      "cell_type": "code",
      "execution_count": null,
      "source": [
        "# remove punctuation from string\r\n",
        "p='''!()-[]}{;:'\"/\\,<>.?@#$%^&*_~'''\r\n",
        "str=input(\"Enter a string so that python can remove punctuations : \")\r\n",
        "np=\"\"\r\n",
        "for c in str:\r\n",
        "    if c not in p:\r\n",
        "        np+=c\r\n",
        "print(\"After removing punctuaations, the string is : \")\r\n",
        "print(np)\r\n"
      ],
      "outputs": [],
      "metadata": {}
    },
    {
      "cell_type": "code",
      "execution_count": null,
      "source": [
        "# sort in alphabetical order\r\n",
        "str=input(\"Enter string to sort in order : \")\r\n",
        "w=str.split()\r\n",
        "w.sort()\r\n",
        "print(\"After sorting, result is : \")\r\n",
        "for x in w:\r\n",
        "    print(x)\r\n"
      ],
      "outputs": [],
      "metadata": {}
    },
    {
      "cell_type": "code",
      "execution_count": null,
      "source": [
        "# count number of vowels\r\n",
        "vowels=\"aeiou\"\r\n",
        "str=input(\"Enter string to count vowels : \")\r\n",
        "str=str.casefold()\r\n",
        "c={}.fromkeys(vowels, 0)\r\n",
        "for char in str:\r\n",
        "    if char in vowels:\r\n",
        "        c[char]+=1\r\n",
        "print(c)\r\n"
      ],
      "outputs": [],
      "metadata": {}
    },
    {
      "cell_type": "code",
      "execution_count": null,
      "source": [
        "# create QR code\r\n",
        "import pyqrcode \r\n",
        "import png\r\n",
        "from pyqrcode import QRCode\r\n",
        "link=input(\"Enter link here : \")\r\n",
        "url=pyqrcode.create(link)\r\n",
        "url.png(\"myqr.png\", scale=6)\r\n"
      ],
      "outputs": [],
      "metadata": {}
    },
    {
      "cell_type": "code",
      "execution_count": null,
      "source": [
        "# num and alphabet count\r\n",
        "string=input()\r\n",
        "count1=0\r\n",
        "count2=0\r\n",
        "for i in string:\r\n",
        "    if(i.isdigit()):\r\n",
        "            count1=count1+1\r\n",
        "    count2=count2+1\r\n",
        "print(\"Alphabet count:\", count2-count1)\r\n",
        "print(\"Number count:\", count1)\r\n"
      ],
      "outputs": [],
      "metadata": {}
    },
    {
      "cell_type": "code",
      "execution_count": null,
      "source": [
        "# password generator\r\n",
        "import random\r\n",
        "entries=\"abcd1234efgh5678\"\r\n",
        "digits=8\r\n",
        "password=''\r\n",
        "for i in range(0, digits):\r\n",
        "    password+=entries[random.randrange(0,len(entries))]\r\n",
        "print(\"Password :\", password)\r\n"
      ],
      "outputs": [],
      "metadata": {}
    },
    {
      "cell_type": "code",
      "execution_count": null,
      "source": [
        "# guess game\r\n",
        "print(\"I have a number in my mind. Can you guess it?\")\r\n",
        "print(\"You have three tries\")\r\n",
        "num=\"26\"\r\n",
        "guess=\"\"\r\n",
        "guess_count=0\r\n",
        "guess_limit=3\r\n",
        "out_of_guesses=False\r\n",
        "while guess != num and not(out_of_guesses):\r\n",
        "    if guess_count < guess_limit:\r\n",
        "        guess = input(\"Enter guess:\")\r\n",
        "        guess_count += 1\r\n",
        "    else:\r\n",
        "        out_of_guesses = True\r\n",
        "if out_of_guesses:\r\n",
        "    print(\"Out of guesses, YOU LOSE!\")\r\n",
        "    print(\"Answer is\", num)\r\n",
        "else:    \r\n",
        "    print(\"YOU WIN!\")\r\n"
      ],
      "outputs": [],
      "metadata": {}
    },
    {
      "cell_type": "code",
      "execution_count": null,
      "source": [],
      "outputs": [],
      "metadata": {}
    },
    {
      "cell_type": "code",
      "execution_count": null,
      "source": [],
      "outputs": [],
      "metadata": {}
    }
  ],
  "metadata": {
    "anaconda-cloud": {},
    "kernelspec": {
      "display_name": "Python 3",
      "language": "python",
      "name": "python3"
    },
    "language_info": {
      "codemirror_mode": {
        "name": "ipython",
        "version": 3
      },
      "file_extension": ".py",
      "mimetype": "text/x-python",
      "name": "python",
      "nbconvert_exporter": "python",
      "pygments_lexer": "ipython3",
      "version": "3.6.1"
    }
  },
  "nbformat": 4,
  "nbformat_minor": 4
}