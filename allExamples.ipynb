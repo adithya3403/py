{
  "cells": [
    {
      "cell_type": "code",
      "metadata": {},
      "source": [
        "# Hello World\n",
        "print(\"Hello, World!\")\n"
      ],
      "outputs": [],
      "execution_count": null
    },
    {
      "cell_type": "code",
      "metadata": {},
      "source": [
        "# Add two numbers \n",
        "a=int(input(\"Enter first number : \"))\n",
        "b=int(input(\"Enter second number : \"))\n",
        "sum=a+b\n",
        "print(\"The sum of {0} and {1} is {2}\".format(a, b, sum))\n"
      ],
      "outputs": [],
      "execution_count": null
    },
    {
      "cell_type": "code",
      "metadata": {},
      "source": [
        "# Square root of a number \n",
        "n=float(input(\"Enter number to find square root : \"))\n",
        "print(\"The square root of {0} is {1}\".format(n, n**0.5))\n"
      ],
      "outputs": [],
      "execution_count": null
    },
    {
      "cell_type": "code",
      "metadata": {},
      "source": [
        "# Area of a triangle \n",
        "print(\"Enter three sides of traingle : \")\n",
        "a=int(input(\"Enter first side : \"))\n",
        "b=int(input(\"Enter second side : \"))\n",
        "c=int(input(\"Enter third side : \"))\n",
        "s=(a+b+c)/2\n",
        "area=(s*(s-a)*(s-b)*(s-c))**0.5\n",
        "print(\"The area of triangle is\", area)\n"
      ],
      "outputs": [],
      "execution_count": null
    },
    {
      "cell_type": "code",
      "metadata": {},
      "source": [
        "# Swap two variables\n",
        "x=int(input(\"Enter first number : \"))\n",
        "y=int(input(\"Enter second number : \"))\n",
        "x,y=y,x\n",
        "print(\"After swapping : \")\n",
        "print(\"First number =\", x)\n",
        "print(\"Second number =\", y)\n"
      ],
      "outputs": [],
      "execution_count": null
    },
    {
      "cell_type": "code",
      "metadata": {},
      "source": [
        "# roots of quadratic equation\n",
        "import cmath\n",
        "a=int(input(\"Enter coefficient of x^2 : \"))\n",
        "b=int(input(\"Enter coefficient of x : \"))\n",
        "c=int(input(\"Enter constant value : \"))\n",
        "d=(b**2)-(4*a*c)\n",
        "x=(-b-cmath.sqrt(d))/(2*a)\n",
        "y=(-b+cmath.sqrt(d))/(2*a)\n",
        "print(\"The roots are {0} and {1}\".format(x,y))\n"
      ],
      "outputs": [],
      "execution_count": null
    },
    {
      "cell_type": "code",
      "metadata": {},
      "source": [
        "# Kilometers to miles\n",
        "km=float(input(\"Enter kilometers : \"))\n",
        "m=km*0.62137\n",
        "print(\"%0.2f kilometers is equal to %0.2f miles\"%(km,m))\n"
      ],
      "outputs": [],
      "execution_count": null
    },
    {
      "cell_type": "code",
      "metadata": {},
      "source": [
        "# Celsius to Fahrenheit\n",
        "c=float(input(\"Enter temperature in celsius : \"))\n",
        "f=(c*1.8)+32\n",
        "print(\"%0.2f degree Celcius is equal to %0.2f degree Fahrenheit\"%(c,f))\n"
      ],
      "outputs": [],
      "execution_count": null
    },
    {
      "cell_type": "code",
      "metadata": {},
      "source": [
        "# Positive, Negative or Zero\n",
        "n=int(input(\"Enter number : \"))\n",
        "if n>0:\n",
        "    print(n, \"is a positive number\")\n",
        "elif n==0:\n",
        "    print(n, \"is zero\")\n",
        "else:\n",
        "    print(n, \"is a negative number\")\n"
      ],
      "outputs": [],
      "execution_count": null
    },
    {
      "cell_type": "code",
      "metadata": {},
      "source": [
        "# Check even or odd\n",
        "n=int(input(\"Enter a number : \"))\n",
        "if n%2==0:\n",
        "    print(n, \"is an even number\")\n",
        "else:\n",
        "    print(n, \"is an odd number\")\n",
        "    \n"
      ],
      "outputs": [],
      "execution_count": null
    },
    {
      "cell_type": "code",
      "metadata": {},
      "source": [
        "# Leap year or not \n",
        "yr=int(input(\"Enter year : \"))\n",
        "if (yr%4==0) and (yr%100!=0) or (yr%400==0):\n",
        "    print(yr, \"is a leap year\")\n",
        "else:\n",
        "    print(yr, \"is not a leap year\")\n"
      ],
      "outputs": [],
      "execution_count": null
    },
    {
      "cell_type": "code",
      "metadata": {},
      "source": [
        "# compare two numbers\n",
        "a=int(input(\"Enter 1st number : \"))\n",
        "b=int(input(\"Enter 2nd number : \"))\n",
        "if a>b:\n",
        "    print(a, \"is greater than\", b)\n",
        "elif a==b:\n",
        "    print(a, \"is equal to\", b)\n",
        "elif a<b:\n",
        "    print(a, \"is less than\", b)\n"
      ],
      "outputs": [],
      "execution_count": null
    },
    {
      "cell_type": "code",
      "metadata": {},
      "source": [
        "# Compare three numbers\n",
        "a=float(input(\"Enter first number : \"))\n",
        "b=float(input(\"Enter second number : \"))\n",
        "c=float(input(\"Enter third number : \"))\n",
        "if a>=b and a>=c:\n",
        "    print(a, \"is greater than\", b, \"and\", c)\n",
        "elif b>=a and b>=c:\n",
        "    print(b, \"is greater than\", a, \"and\", c)\n",
        "else:\n",
        "    print(c, \"is greater than\", a, \"and\", b)\n"
      ],
      "outputs": [],
      "execution_count": null
    },
    {
      "cell_type": "code",
      "metadata": {},
      "source": [
        "# sum of natural numbers upto n\n",
        "def sum(n):\n",
        "    if n<=1:\n",
        "        return n\n",
        "    else:\n",
        "        return n+sum(n-1)\n",
        "n=int(input(\"Enter number : \"))\n",
        "if n<0:\n",
        "    print(\"Invalid input\")\n",
        "else:\n",
        "    print(\"The sum is\", sum(n))\n"
      ],
      "outputs": [],
      "execution_count": null
    },
    {
      "cell_type": "code",
      "metadata": {},
      "source": [
        "# Check prime number \n",
        "n=int(input(\"Enter a number : \"))\n",
        "if n>1:\n",
        "    for i in range(2,n):\n",
        "        if (n%i==0):\n",
        "            print(n, \"is not a prime number\")\n",
        "            break\n",
        "    else:\n",
        "        print(n, \"is a prime number\")\n",
        "else:\n",
        "    print(n, \"is a prime number\")\n"
      ],
      "outputs": [],
      "execution_count": null
    },
    {
      "cell_type": "code",
      "metadata": {},
      "source": [
        "# Print primes in interval\n",
        "print(\"Enter interval to find prime numbers : \")\n",
        "lower=int(input(\"Enter lower limit : \"))\n",
        "upper=int(input(\"Enter upper limit : \"))\n",
        "print(\"Prime numbers between\", lower, \"and\", upper, \"are : \")\n",
        "for n in range(lower, upper+1):\n",
        "    if n>1:\n",
        "        for i in range(2, n):\n",
        "            if (n%i==0):\n",
        "                break\n",
        "        else:\n",
        "            print(n)\n"
      ],
      "outputs": [],
      "execution_count": null
    },
    {
      "cell_type": "code",
      "metadata": {},
      "source": [
        "# factorial of number \n",
        "def f(n):\n",
        "    if n==1:\n",
        "        return n\n",
        "    else:\n",
        "        return n*f(n-1)\n",
        "n=int(input(\"Enter number : \"))\n",
        "if n<0:\n",
        "    print(\"Invalid input\")\n",
        "elif n==0:\n",
        "    print(\"Factorial of 0 is 1\")\n",
        "else:\n",
        "    print(\"Factorial of\", n, \"is\", f(n))\n"
      ],
      "outputs": [],
      "execution_count": null
    },
    {
      "cell_type": "code",
      "metadata": {},
      "source": [
        "# Multiplication table\n",
        "n=int(input(\"Enter number to print its multiplication table : \"))\n",
        "for i in range(1,11):\n",
        "    print(n, \"x\", i, \"=\", n*i)\n"
      ],
      "outputs": [],
      "execution_count": null
    },
    {
      "cell_type": "code",
      "metadata": {},
      "source": [
        "#factors of a number\n",
        "n=int(input(\"Enter a number : \"))\n",
        "f=0\n",
        "list=[]\n",
        "for i in range(1,n+1):\n",
        "    if n%i==0:\n",
        "        f+=1\n",
        "        list.append(i)\n",
        "# print(\"Number of factors are\", f)\n",
        "print(\"Factors of\", n, \"are\", list)\n"
      ],
      "outputs": [],
      "execution_count": null
    },
    {
      "cell_type": "code",
      "metadata": {},
      "source": [
        "# Fibonacci series\n",
        "num=int(input())\n",
        "def fib(n):\n",
        "    if n<=1:\n",
        "        return n\n",
        "    else:\n",
        "        return fib(n-1)+fib(n-2)\n",
        "print(\"Fibonacci series upto\", num, \"is : \")\n",
        "for i in range(num):\n",
        "    print(fib(i))\n"
      ],
      "outputs": [],
      "execution_count": null
    },
    {
      "cell_type": "code",
      "metadata": {},
      "source": [
        "# Decimal to binary, octal and hexadecimal\n",
        "dec=int(input(\"Enter number : \"))\n",
        "print(\"The decimal value of\", dec, \"is : \")\n",
        "print(bin(dec), \"in binary\")\n",
        "print(oct(dec), \"in octal\")\n",
        "print(hex(dec), \"in hexadecimal\")\n"
      ],
      "outputs": [],
      "execution_count": null
    },
    {
      "cell_type": "code",
      "metadata": {},
      "source": [
        "# ASCII value of char\n",
        "c=input(\"Enter character to find ASCII value : \")\n",
        "print(\"The ASCII value of\", c, \"is\", ord(c))\n"
      ],
      "outputs": [],
      "execution_count": null
    },
    {
      "cell_type": "code",
      "metadata": {},
      "source": [
        "# find HCF and LCM\n",
        "def findHCF(x,y):\n",
        "    if x>y:\n",
        "        s=y\n",
        "    else:\n",
        "        s=x\n",
        "    for i in range(1,s+1):\n",
        "        if ((x%i==0) and (y%i==0)):\n",
        "            hcf=i\n",
        "    return hcf\n",
        "a=int(input(\"Enter first number : \"))\n",
        "b=int(input(\"Enter second number : \"))\n",
        "print(\"The HCF of\", a, \"and\", b, \"is\", findHCF(a,b))\n",
        "z=(a*b)/(findHCF(a,b))\n",
        "print(\"The LCM of\", a, \"and\", b, \"is\", int(z))\n"
      ],
      "outputs": [],
      "execution_count": null
    },
    {
      "cell_type": "code",
      "metadata": {},
      "source": [
        "# calculator\n",
        "a=float(input(\"Enter first number : \"))\n",
        "b=float(input(\"Enter second number : \"))\n",
        "sign=input(\"Enter sign(+,-,*,/) : \")\n",
        "if sign==\"+\":\n",
        "    print(\"{0}+{1}={2}\".format(a,b,a+b))\n",
        "elif sign==\"-\":\n",
        "    print(\"{0}-{1}={2}\".format(a,b,a-b))\n",
        "elif sign==\"*\":\n",
        "    print(\"{0}x{1}={2}\".format(a,b,a*b))\n",
        "elif sign==\"/\":\n",
        "    print(\"{0}/{1}={2}\".format(a,b,a/b))\n",
        "else:\n",
        "    print(\"Invalid sign enetered\")\n"
      ],
      "outputs": [],
      "execution_count": null
    },
    {
      "cell_type": "code",
      "metadata": {},
      "source": [
        "# Display calendar\n",
        "import calendar\n",
        "y=int(input(\"Enter year : \"))\n",
        "m=int(input(\"Enter month number : \"))\n",
        "print(calendar.month(y,m))\n"
      ],
      "outputs": [],
      "execution_count": null
    },
    {
      "cell_type": "code",
      "metadata": {},
      "source": [
        "#Add two matrices\n",
        "x=[[12,7,3],\n",
        "    [4,5,6],\n",
        "    [7,8,9]]\n",
        "y=[[5,8,1],\n",
        "    [6,7,3],\n",
        "    [4,5,9]]\n",
        "r=[[0,0,0],\n",
        "    [0,0,0],\n",
        "    [0,0,0]]\n",
        "for i in range(len(x)):\n",
        "    for j in range(len(y)):\n",
        "        r[i][j]=x[i][j]+y[i][j]\n",
        "print(\"Result is :\")\n",
        "for p in r:\n",
        "    print(p)\n"
      ],
      "outputs": [],
      "execution_count": null
    },
    {
      "cell_type": "code",
      "metadata": {},
      "source": [
        "#Subtract two matrices\n",
        "x=[[12,7,3],\n",
        "    [4,5,6],\n",
        "    [7,8,9]]\n",
        "y=[[5,8,1],\n",
        "    [6,7,3],\n",
        "    [4,5,9]]\n",
        "r=[[0,0,0],\n",
        "    [0,0,0],\n",
        "    [0,0,0]]\n",
        "for i in range(len(x)):\n",
        "    for j in range(len(y)):\n",
        "        r[i][j]=x[i][j]-y[i][j]\n",
        "print(\"Result is :\")\n",
        "for p in r:\n",
        "    print(p)\n"
      ],
      "outputs": [],
      "execution_count": null
    },
    {
      "cell_type": "code",
      "metadata": {},
      "source": [
        "#multiply two matrices\n",
        "x=[[12,7,3],\n",
        "    [4,5,6],\n",
        "    [7,8,9]]\n",
        "y=[[5,8,1,2],\n",
        "    [6,7,3,0],\n",
        "    [4,5,9,1]]\n",
        "r=[[0,0,0,0],\n",
        "    [0,0,0,0],\n",
        "    [0,0,0,0]]\n",
        "for i in range(len(x)):\n",
        "    for j in range(len(y[0])):\n",
        "        for k in range(len(y)):\n",
        "            r[i][j]+=x[i][k]*y[k][j]\n",
        "    \n",
        "print(\"Result is :\")\n",
        "for p in r:\n",
        "    print(p)\n"
      ],
      "outputs": [],
      "execution_count": null
    },
    {
      "cell_type": "code",
      "metadata": {},
      "source": [
        "# Transpose of matrix\n",
        "import numpy as np\n",
        "A=np.array([[1, 2, 3], [0, 1, 2], [0, 0, 1]])\n",
        "print(\"Matrix A is\\n\", A)\n",
        "B=np.transpose(A)\n",
        "print(\"\\nTranspose of A is \\n\", B)\n"
      ],
      "outputs": [],
      "execution_count": null
    },
    {
      "cell_type": "code",
      "metadata": {},
      "source": [
        "# Det of matrix\n",
        "import numpy as np\n",
        "A=np.array([[1, 2, 3], [2, 3, 4], [3, 4, 5]])\n",
        "D=np.linalg.det(A)\n",
        "if D==0:\n",
        "    print(\"Singular matrix \\nDet is zero\")\n",
        "else:\n",
        "    print(\"Det is %0.2f\"%(D))\n"
      ],
      "outputs": [],
      "execution_count": null
    },
    {
      "cell_type": "code",
      "metadata": {},
      "source": [
        "# take matrix input\n",
        "r=int(input(\"\\nEnter number of rows : \"))\n",
        "c=int(input(\"Enter number of columns : \"))\n",
        "\n",
        "matrix=[]\n",
        "\n",
        "print(\"\\nEnter entries row-wise : \")\n",
        "\n",
        "for x in range(r):\n",
        "    m=[]\n",
        "    for y in range(c):\n",
        "        m.append(int(input()))\n",
        "    matrix.append(m)\n",
        "\n",
        "print(\"\\nThe matrix is : \")\n",
        "\n",
        "for p in range(r):\n",
        "    print(*matrix[p])\n",
        "    \n"
      ],
      "outputs": [],
      "execution_count": null
    },
    {
      "cell_type": "code",
      "metadata": {},
      "source": [
        "# Inverse of matrix\n",
        "import numpy\n",
        "r=int(input(\"\\nEnter number of rows : \"))\n",
        "c=int(input(\"Enter number of columns : \"))\n",
        "matrix=[]\n",
        "print(\"\\nEnter entries row-wise : \")\n",
        "for x in range(r):\n",
        "    m=[]\n",
        "    for y in range(c):\n",
        "        m.append(int(input()))\n",
        "    matrix.append(m)\n",
        "print(\"\\nThe matrix is : \")\n",
        "for p in range(r):\n",
        "    print(*matrix[p])\n",
        "print(\"\\nInverse of Matrix :\", numpy.linalg.inv(matrix))\n",
        "3\n"
      ],
      "outputs": [],
      "execution_count": null
    },
    {
      "cell_type": "code",
      "metadata": {},
      "source": [
        "# Sum of elements of matrix\n",
        "rows=int(input(\"Enter number of rows : \"))\n",
        "columns=int(input(\"Enter number of columns : \"))\n",
        "\n",
        "matrix=[]\n",
        "\n",
        "print(\"\\nEnter elements of matrix row-wise : \")\n",
        "\n",
        "for x in range(rows):\n",
        "    a=[]\n",
        "    for y in range(columns):\n",
        "        b=int(input())\n",
        "        a.append(b)\n",
        "    matrix.append(a)\n",
        "\n",
        "sum=0\n",
        "\n",
        "print(\"\\nThe matrix is : \")\n",
        "\n",
        "for p in matrix:\n",
        "    print(*p, sep=\" \")\n",
        "    for k in p:\n",
        "        sum+=k\n",
        "\n",
        "print(\"\\nSum of all elements in matrix = \", sum)\n"
      ],
      "outputs": [],
      "execution_count": null
    },
    {
      "cell_type": "code",
      "metadata": {},
      "source": [
        "# Rank of matrix\n",
        "import numpy\n",
        "r=int(input(\"\\nEnter number of rows : \"))\n",
        "c=int(input(\"Enter number of columns : \"))\n",
        "matrix=[]\n",
        "print(\"\\nEnter entries row-wise : \")\n",
        "for x in range(r):\n",
        "    m=[]\n",
        "    for y in range(c):\n",
        "        m.append(int(input()))\n",
        "    matrix.append(m)\n",
        "print(\"\\nThe matrix is : \")\n",
        "for p in range(r):\n",
        "    print(*matrix[p])\n",
        "print(\"\\nThe rank is :\", numpy.linalg.matrix_rank(matrix))\n"
      ],
      "outputs": [],
      "execution_count": null
    },
    {
      "cell_type": "code",
      "metadata": {},
      "source": [
        "# Solve linear eqns\n",
        "import numpy as np\n",
        "r=int(input(\"Number of equations = Number of unknowns = \"))\n",
        "A=[]\n",
        "print(\"\\nEnter coeffecients row-wise : \")\n",
        "for i1 in range(r):\n",
        "    a1=[]\n",
        "    for j1 in range(r):\n",
        "        a1.append(int(input()))\n",
        "    A.append(a1)\n",
        "r2=r\n",
        "c2=1\n",
        "B=[]\n",
        "print(\"\\nEnter constants : \")\n",
        "for i1 in range(r2):\n",
        "    a2=[]\n",
        "    for j2 in range(c2):\n",
        "        a2.append(int(input()))\n",
        "    B.append(a2)\n",
        "D=np.linalg.det(A)\n",
        "if D==0:\n",
        "    print(\"\\nSingular matrix \\nSolution cannot be found\")\n",
        "else:\n",
        "    AB=np.column_stack((A, B))\n",
        "    X=np.linalg.solve(A, B)\n",
        "    print(\"\\nAugmented matrix AB is:\", AB)\n",
        "    r1=np.linalg.matrix_rank(A)\n",
        "    print(\"\\nThe rank of A is:\", r1)\n",
        "    r2=np.linalg.matrix_rank(AB)\n",
        "    print(\"The rank of AB is:\", r2)\n",
        "    n=len(X)\n",
        "    print(\"Unknows are:\", n)\n",
        "    if r1==r2==n:\n",
        "        print(\"Unique Solution \\nX is:\", X)\n",
        "    elif (r1!=r2):\n",
        "        print(\"Since rank of A is not equal to rank of AB\")\n",
        "        print(\"Solution does not exist\")\n",
        "    elif (r1==r2)<n:\n",
        "        print(\"Infinite solutions exists\")\n"
      ],
      "outputs": [],
      "execution_count": null
    },
    {
      "cell_type": "code",
      "metadata": {},
      "source": [
        "# Palindrome\n",
        "str=input(\"Enter :\")\n",
        "str=str.casefold()\n",
        "if str[:]==str[::-1]:\n",
        "    print(str, \"is a palindrome\")\n",
        "else:\n",
        "    print(str, \"is not a palindrome\")\n"
      ],
      "outputs": [],
      "execution_count": null
    },
    {
      "cell_type": "code",
      "metadata": {},
      "source": [
        "# remove punctuation from string\n",
        "p='''!()-[]}{;:'\"/\\,<>.?@#$%^&*_~'''\n",
        "str=input(\"Enter a string so that python can remove punctuations : \")\n",
        "np=\"\"\n",
        "for c in str:\n",
        "    if c not in p:\n",
        "        np+=c\n",
        "print(\"After removing punctuaations, the string is : \")\n",
        "print(np)\n"
      ],
      "outputs": [],
      "execution_count": null
    },
    {
      "cell_type": "code",
      "metadata": {},
      "source": [
        "# sort in alphabetical order\n",
        "str=input(\"Enter string to sort in order : \")\n",
        "w=str.split()\n",
        "w.sort()\n",
        "print(\"After sorting, result is : \")\n",
        "for x in w:\n",
        "    print(x)\n"
      ],
      "outputs": [],
      "execution_count": null
    },
    {
      "cell_type": "code",
      "metadata": {},
      "source": [
        "# count number of vowels\n",
        "vowels=\"aeiou\"\n",
        "str=input(\"Enter string to count vowels : \")\n",
        "str=str.casefold()\n",
        "c={}.fromkeys(vowels, 0)\n",
        "for char in str:\n",
        "    if char in vowels:\n",
        "        c[char]+=1\n",
        "print(c)\n"
      ],
      "outputs": [],
      "execution_count": null
    },
    {
      "cell_type": "code",
      "metadata": {},
      "source": [
        "# create QR code\n",
        "import pyqrcode \n",
        "import png\n",
        "from pyqrcode import QRCode\n",
        "link=input(\"Enter link here : \")\n",
        "url=pyqrcode.create(link)\n",
        "url.png(\"myqr.png\", scale=6)\n"
      ],
      "outputs": [],
      "execution_count": null
    },
    {
      "cell_type": "code",
      "metadata": {},
      "source": [
        "# num and alphabet count\n",
        "string=input()\n",
        "count1=0\n",
        "count2=0\n",
        "for i in string:\n",
        "    if(i.isdigit()):\n",
        "            count1=count1+1\n",
        "    count2=count2+1\n",
        "print(\"Alphabet count:\", count2-count1)\n",
        "print(\"Number count:\", count1)\n"
      ],
      "outputs": [],
      "execution_count": null
    },
    {
      "cell_type": "code",
      "metadata": {},
      "source": [
        "# password generator\n",
        "import random\n",
        "entries=\"abcd1234efgh5678\"\n",
        "digits=8\n",
        "password=''\n",
        "for i in range(0, digits):\n",
        "    password+=entries[random.randrange(0,len(entries))]\n",
        "print(\"Password :\", password)\n"
      ],
      "outputs": [],
      "execution_count": null
    },
    {
      "cell_type": "code",
      "metadata": {},
      "source": [
        "# guess game\n",
        "print(\"I have a number in my mind. Can you guess it?\")\n",
        "print(\"You have three tries\")\n",
        "num=\"26\"\n",
        "guess=\"\"\n",
        "guess_count=0\n",
        "guess_limit=3\n",
        "out_of_guesses=False\n",
        "while guess != num and not(out_of_guesses):\n",
        "    if guess_count < guess_limit:\n",
        "        guess = input(\"Enter guess:\")\n",
        "        guess_count += 1\n",
        "    else:\n",
        "        out_of_guesses = True\n",
        "if out_of_guesses:\n",
        "    print(\"Out of guesses, YOU LOSE!\")\n",
        "    print(\"Answer is\", num)\n",
        "else:    \n",
        "    print(\"YOU WIN!\")\n"
      ],
      "outputs": [],
      "execution_count": null
    },
    {
      "cell_type": "code",
      "metadata": {},
      "source": [],
      "outputs": [],
      "execution_count": null
    },
    {
      "cell_type": "code",
      "metadata": {},
      "source": [],
      "outputs": [],
      "execution_count": null
    }
  ],
  "metadata": {
    "anaconda-cloud": {},
    "kernelspec": {
      "display_name": "Python 3",
      "language": "python",
      "name": "python3"
    },
    "language_info": {
      "codemirror_mode": {
        "name": "ipython",
        "version": 3
      },
      "file_extension": ".py",
      "mimetype": "text/x-python",
      "name": "python",
      "nbconvert_exporter": "python",
      "pygments_lexer": "ipython3",
      "version": "3.6.1"
    }
  },
  "nbformat": 4,
  "nbformat_minor": 4
}