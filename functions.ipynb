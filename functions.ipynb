{
 "cells": [
  {
   "cell_type": "code",
   "execution_count": null,
   "metadata": {},
   "outputs": [],
   "source": [
    "# display powers of 2 using function\n",
    "terms = 10\n",
    "result = list(map(lambda x: 2**x, range(terms)))\n",
    "print(\"The total terms are : \", terms)\n",
    "for i in range(terms):\n",
    "    print(\"2 raised to power\", i, \"is\", result[i])"
   ]
  },
  {
   "cell_type": "code",
   "execution_count": null,
   "metadata": {},
   "outputs": [],
   "source": [
    "# numbers divisible by other numbers\n",
    "mylist = [\n",
    "    12,\n",
    "    65,\n",
    "    54,\n",
    "    39,\n",
    "    102,\n",
    "    339,\n",
    "    221,\n",
    "]\n",
    "n = 13\n",
    "result = list(filter(lambda x: (x % n == 0), mylist))\n",
    "print(\"Numbers divisible by\", num, \"are\", result)"
   ]
  },
  {
   "cell_type": "code",
   "execution_count": null,
   "metadata": {},
   "outputs": [],
   "source": [
    "# convert dec to bin, oct and hex\n",
    "dec = 344\n",
    "print(\"The decimal value of\", dec, \"is : \")\n",
    "print(bin(dec), \"in binary\")\n",
    "print(oct(dec), \"in octal\")\n",
    "print(hex(dec), \"in hexadecimal\")"
   ]
  },
  {
   "cell_type": "code",
   "execution_count": null,
   "metadata": {},
   "outputs": [],
   "source": [
    "# ASCII value of a char\n",
    "char = 'p'\n",
    "print(\"The ASCII value of\", char, \"is\", ord(c))"
   ]
  },
  {
   "cell_type": "code",
   "execution_count": null,
   "metadata": {},
   "outputs": [],
   "source": [
    "# HCF\n",
    "def findhcf(x, y):\n",
    "    while y:\n",
    "        x, y = y, x % y\n",
    "    return x\n",
    "\n",
    "\n",
    "print(findhcf(6, 22))\n"
   ]
  },
  {
   "cell_type": "code",
   "execution_count": null,
   "metadata": {},
   "outputs": [],
   "source": [
    "# LCM\n",
    "def hcf(x, y):\n",
    "    while y:\n",
    "        x, y = y, x % y\n",
    "    return x\n",
    "\n",
    "\n",
    "def lcm(x, y):\n",
    "    lcm = (x * y) // hcf(x, y)\n",
    "    return lcm\n",
    "\n",
    "\n",
    "n1 = 54\n",
    "n2 = 24\n",
    "print(\"LCM of {0} and {1} is {2}\".format(n1, n2, lcm(n1, n2)))"
   ]
  },
  {
   "cell_type": "code",
   "execution_count": null,
   "metadata": {},
   "outputs": [],
   "source": [
    "# factors of a number\n",
    "def print(x):\n",
    "    print(\"The factors are : \")\n",
    "    for i in range(1, x + 1):\n",
    "        if x % i == 0:\n",
    "            print(i)\n",
    "\n",
    "\n",
    "n = 216\n",
    "print(n)"
   ]
  },
  {
   "cell_type": "code",
   "execution_count": null,
   "metadata": {},
   "outputs": [],
   "source": [
    "# calc\n",
    "def add(x, y):\n",
    "    return x + y\n",
    "\n",
    "\n",
    "def sub(x, y):\n",
    "    return x - y\n",
    "\n",
    "\n",
    "def mul(x, y):\n",
    "    return x * y\n",
    "\n",
    "\n",
    "def div(x, y):\n",
    "    return x / y\n",
    "\n",
    "\n",
    "print(\n",
    "    \"Select operator\\n1 for addition\\n2 for subtraction\\n3 for multiplication\\n4 for division : \"\n",
    ")\n",
    "c = input(\"Enter choice : \")\n",
    "a = int(input(\"Enter first number : \"))\n",
    "b = int(input(\"Enter second number : \"))\n",
    "if c == '1':\n",
    "    print(add(a, b))\n",
    "elif c == '2':\n",
    "    print(sub(a, b))\n",
    "elif c == '3':\n",
    "    print(mul(a, b))\n",
    "elif c == '4':\n",
    "    print(div(a, b))\n",
    "else:\n",
    "    print(\"An error occured!\")"
   ]
  },
  {
   "cell_type": "code",
   "execution_count": null,
   "metadata": {},
   "outputs": [],
   "source": [
    "# shuffle deck of cards\n",
    "import itertools\n",
    "import random\n",
    "\n",
    "deck = list(\n",
    "    itertools.product(range(1, 14), ['Spade', 'Heart', 'Diamond', 'Club']))\n",
    "random.shuffle(deck)\n",
    "print(\"You got : \")\n",
    "for i in range(5):\n",
    "    print(deck[i][0], \"of\", deck[i][1])"
   ]
  },
  {
   "cell_type": "code",
   "execution_count": null,
   "metadata": {},
   "outputs": [],
   "source": [
    "# display calendar\n",
    "import calendar\n",
    "\n",
    "yy = 2020\n",
    "mm = 11\n",
    "print(calendar.month(yy, mm))"
   ]
  },
  {
   "cell_type": "markdown",
   "metadata": {},
   "source": [
    "## RECURSION"
   ]
  },
  {
   "cell_type": "code",
   "execution_count": null,
   "metadata": {},
   "outputs": [],
   "source": [
    "# fibonacci series\n",
    "def fib(n):\n",
    "    if n <= 1:\n",
    "        return n\n",
    "    else:\n",
    "        return (fib(n - 1) + fib(n - 2))\n",
    "\n",
    "\n",
    "t = 10\n",
    "if t <= 0:\n",
    "    print(\"Error!\")\n",
    "else:\n",
    "    print(\"Fibonacci series is : \")\n",
    "    for i in range(t):\n",
    "        print(fib(t))"
   ]
  },
  {
   "cell_type": "code",
   "execution_count": null,
   "metadata": {},
   "outputs": [],
   "source": [
    "# sum of natural numbers\n",
    "def sum(n):\n",
    "    if n <= 1:\n",
    "        return n\n",
    "    else:\n",
    "        return n + sum(n - 1)\n",
    "\n",
    "\n",
    "n = 16\n",
    "if n < 0:\n",
    "    print(\"Error!\")\n",
    "else:\n",
    "    print(\"Sum is\", sum(n))"
   ]
  },
  {
   "cell_type": "code",
   "execution_count": null,
   "metadata": {},
   "outputs": [],
   "source": [
    "# factorial\n",
    "def fac(n):\n",
    "    if n == 1:\n",
    "        return n\n",
    "    else:\n",
    "        return n * fac(n - 1)\n",
    "\n",
    "\n",
    "n = 7\n",
    "if n < 0:\n",
    "    print(\"Error!\")\n",
    "elif n == 0:\n",
    "    print(\"0 != 1\")\n",
    "elif n == 1:\n",
    "    print(\"1 != 1\")\n",
    "else:\n",
    "    print(n, \"!=\", fac(n))"
   ]
  },
  {
   "cell_type": "code",
   "execution_count": null,
   "metadata": {},
   "outputs": [],
   "source": [
    "# dec to bin\n",
    "def conv(n):\n",
    "    if n > 1:\n",
    "        conv(n // 2)\n",
    "    print(n % 2, end=' ')\n",
    "\n",
    "\n",
    "n = 34\n",
    "conv(n)\n",
    "print()"
   ]
  }
 ],
 "metadata": {
  "language_info": {
   "name": "python"
  },
  "orig_nbformat": 4
 },
 "nbformat": 4,
 "nbformat_minor": 2
}
