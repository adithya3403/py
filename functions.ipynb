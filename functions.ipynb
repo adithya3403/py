{
 "cells": [
  {
   "cell_type": "code",
   "execution_count": null,
   "source": [
    "# display powers of 2 using function\r\n",
    "terms=10\r\n",
    "result=list(map(lambda x:2**x, range(terms)))\r\n",
    "print(\"The total terms are : \", terms)\r\n",
    "for i in range(terms):\r\n",
    "    print(\"2 raised to power\", i, \"is\", result[i])"
   ],
   "outputs": [],
   "metadata": {}
  },
  {
   "cell_type": "code",
   "execution_count": null,
   "source": [
    "# numbers divisible by other numbers\r\n",
    "mylist=[12,65,54,39,102,339,221,]\r\n",
    "n=13\r\n",
    "result=list(filter(lambda x:(x%n==0), mylist))\r\n",
    "print(\"Numbers divisible by\", num, \"are\", result)"
   ],
   "outputs": [],
   "metadata": {}
  },
  {
   "cell_type": "code",
   "execution_count": null,
   "source": [
    "# convert dec to bin, oct and hex\r\n",
    "dec=344\r\n",
    "print(\"The decimal value of\", dec, \"is : \")\r\n",
    "print(bin(dec), \"in binary\")\r\n",
    "print(oct(dec), \"in octal\")\r\n",
    "print(hex(dec), \"in hexadecimal\")"
   ],
   "outputs": [],
   "metadata": {}
  },
  {
   "cell_type": "code",
   "execution_count": null,
   "source": [
    "# ASCII value of a char\r\n",
    "char='p'\r\n",
    "print(\"The ASCII value of\", char, \"is\", ord(c))"
   ],
   "outputs": [],
   "metadata": {}
  },
  {
   "cell_type": "code",
   "execution_count": null,
   "source": [
    "# HCF \r\n",
    "def findhcf(x, y):\r\n",
    "    while y:\r\n",
    "        x, y=y, x%y\r\n",
    "    return x\r\n",
    "print(findhcf(6,22))"
   ],
   "outputs": [],
   "metadata": {}
  },
  {
   "cell_type": "code",
   "execution_count": null,
   "source": [
    "# LCM\r\n",
    "def hcf(x, y):\r\n",
    "    while y:\r\n",
    "        x, y=y, x%y\r\n",
    "    return x\r\n",
    "def lcm(x, y):\r\n",
    "    lcm=(x*y)//hcf(x, y)\r\n",
    "    return lcm\r\n",
    "n1=54\r\n",
    "n2=24\r\n",
    "print(\"LCM of {0} and {1} is {2}\".format(n1, n2, lcm(n1, n2)))"
   ],
   "outputs": [],
   "metadata": {}
  },
  {
   "cell_type": "code",
   "execution_count": null,
   "source": [
    "# factors of a number\r\n",
    "def print(x):\r\n",
    "    print(\"The factors are : \")\r\n",
    "    for i in range(1, x+1):\r\n",
    "        if x%i==0:\r\n",
    "            print(i)\r\n",
    "n=216\r\n",
    "print(n)"
   ],
   "outputs": [],
   "metadata": {}
  },
  {
   "cell_type": "code",
   "execution_count": null,
   "source": [
    "# calc\r\n",
    "def add(x, y):\r\n",
    "    return x+y\r\n",
    "def sub(x, y):\r\n",
    "    return x-y\r\n",
    "def mul(x, y):\r\n",
    "    return x*y\r\n",
    "def div(x, y):\r\n",
    "    return x/y\r\n",
    "print(\"Select operator\\n1 for addition\\n2 for subtraction\\n3 for multiplication\\n4 for division : \")\r\n",
    "c = input(\"Enter choice : \")\r\n",
    "a=int(input(\"Enter first number : \"))\r\n",
    "b=int(input(\"Enter second number : \"))\r\n",
    "if c=='1':\r\n",
    "    print(add(a, b))\r\n",
    "elif c=='2':\r\n",
    "    print(sub(a, b))\r\n",
    "elif c=='3':\r\n",
    "    print(mul(a, b))\r\n",
    "elif c=='4':\r\n",
    "    print(div(a, b))\r\n",
    "else:\r\n",
    "    print(\"An error occured!\")"
   ],
   "outputs": [],
   "metadata": {}
  },
  {
   "cell_type": "code",
   "execution_count": null,
   "source": [
    "# shuffle deck of cards\r\n",
    "import itertools\r\n",
    "import random\r\n",
    "deck=list(itertools.product(range(1,14), ['Spade', 'Heart', 'Diamond', 'Club']))\r\n",
    "random.shuffle(deck)\r\n",
    "print(\"You got : \")\r\n",
    "for i in range(5):\r\n",
    "    print(deck[i][0], \"of\", deck[i][1])"
   ],
   "outputs": [],
   "metadata": {}
  },
  {
   "cell_type": "code",
   "execution_count": null,
   "source": [
    "# display calendar\r\n",
    "import calendar\r\n",
    "yy=2020\r\n",
    "mm=11\r\n",
    "print(calendar.month(yy, mm))"
   ],
   "outputs": [],
   "metadata": {}
  },
  {
   "cell_type": "markdown",
   "source": [
    "## RECURSION"
   ],
   "metadata": {}
  },
  {
   "cell_type": "code",
   "execution_count": null,
   "source": [
    "# fibonacci series\r\n",
    "def fib(n):\r\n",
    "    if n<=1:\r\n",
    "        return n\r\n",
    "    else:\r\n",
    "        return (fib(n-1)+fib(n-2))\r\n",
    "t=10\r\n",
    "if t<=0:\r\n",
    "    print(\"Error!\")\r\n",
    "else:\r\n",
    "    print(\"Fibonacci series is : \")\r\n",
    "    for i in range(t):\r\n",
    "        print(fib(t))"
   ],
   "outputs": [],
   "metadata": {}
  },
  {
   "cell_type": "code",
   "execution_count": null,
   "source": [
    "# sum of natural numbers \r\n",
    "def sum(n):\r\n",
    "    if n<=1:\r\n",
    "        return n\r\n",
    "    else:\r\n",
    "        return n+sum(n-1)\r\n",
    "n=16\r\n",
    "if n<0:\r\n",
    "    print(\"Error!\")\r\n",
    "else:\r\n",
    "    print(\"Sum is\", sum(n))"
   ],
   "outputs": [],
   "metadata": {}
  },
  {
   "cell_type": "code",
   "execution_count": null,
   "source": [
    "# factorial\r\n",
    "def fac(n):\r\n",
    "    if n==1:\r\n",
    "        return n\r\n",
    "    else:\r\n",
    "        return n*fac(n-1)\r\n",
    "n=7\r\n",
    "if n<0:\r\n",
    "    print(\"Error!\")\r\n",
    "elif n==0:\r\n",
    "    print(\"0 != 1\")\r\n",
    "elif n==1:\r\n",
    "    print(\"1 != 1\")\r\n",
    "else:\r\n",
    "    print(n, \"!=\", fac(n))"
   ],
   "outputs": [],
   "metadata": {}
  },
  {
   "cell_type": "code",
   "execution_count": null,
   "source": [
    "# dec to bin\r\n",
    "def conv(n):\r\n",
    "    if n>1:\r\n",
    "        conv(n//2)\r\n",
    "    print(n%2, end=' ')\r\n",
    "n=34\r\n",
    "conv(n)\r\n",
    "print()"
   ],
   "outputs": [],
   "metadata": {}
  }
 ],
 "metadata": {
  "orig_nbformat": 4,
  "language_info": {
   "name": "python"
  }
 },
 "nbformat": 4,
 "nbformat_minor": 2
}