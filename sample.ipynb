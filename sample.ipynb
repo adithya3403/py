{
  "cells": [
    {
      "cell_type": "code",
      "metadata": {},
      "source": [
        "n=int(input(\"Enter a number : \"))\n",
        "f=1\n",
        "if n>0:\n",
        "    for i in range(1,n+1):\n",
        "        f=f*i\n",
        "    print(\"Factorial of\", n, \"is\", f)\n",
        "elif n==0:\n",
        "    print(\"Factorial is 1\")\n",
        "else:\n",
        "    print(\"Invalid\")\n"
      ],
      "outputs": [],
      "execution_count": null
    },
    {
      "cell_type": "code",
      "metadata": {},
      "source": [
        "# Sum of natural nums upto n\n",
        "def sum(n):\n",
        "    if n<=1:\n",
        "        return n\n",
        "    else:\n",
        "        return n+sum(n-1)\n",
        "n=int(input(\"Enter a number : \"))\n",
        "if n<0:\n",
        "    print(\"invalid\")\n",
        "else:\n",
        "    print(\"Sum is\", sum(n))\n"
      ],
      "outputs": [],
      "execution_count": null
    },
    {
      "cell_type": "code",
      "metadata": {},
      "source": [
        " "
      ],
      "outputs": [],
      "execution_count": null
    }
  ],
  "metadata": {
    "anaconda-cloud": {},
    "kernelspec": {
      "display_name": "Python 3",
      "language": "python",
      "name": "python3"
    },
    "language_info": {
      "codemirror_mode": {
        "name": "ipython",
        "version": 3
      },
      "file_extension": ".py",
      "mimetype": "text/x-python",
      "name": "python",
      "nbconvert_exporter": "python",
      "pygments_lexer": "ipython3",
      "version": "3.6.1"
    }
  },
  "nbformat": 4,
  "nbformat_minor": 4
}