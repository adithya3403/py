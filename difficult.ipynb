{
  "cells": [
    {
      "cell_type": "code",
      "execution_count": null,
      "metadata": {},
      "outputs": [],
      "source": [
        "# factors of a number\n",
        "def factors(x):\n",
        "    for i in range(1, x + 1):\n",
        "        if x % i == 0:\n",
        "            print(i)\n",
        "\n",
        "\n",
        "n = int(input(\"Enter number : \"))\n",
        "print(\"Factors of\", n, \"are : \")\n",
        "factors(n)\n"
      ]
    },
    {
      "cell_type": "code",
      "execution_count": null,
      "metadata": {},
      "outputs": [],
      "source": [
        "# prime number\n",
        "def prime(x):\n",
        "    if x > 1:\n",
        "        for i in range(2, x):\n",
        "            if (x % i == 0):\n",
        "                print(n, \"is a not prime number\")\n",
        "                print(i, \"x\", x // i, \"=\", x)\n",
        "                break\n",
        "        else:\n",
        "            print(x, \"is a prime number\")\n",
        "    else:\n",
        "        print(x, \"is a prime number\")\n",
        "\n",
        "\n",
        "n = int(input(\"Enter a number : \"))\n",
        "prime(n)\n"
      ]
    },
    {
      "cell_type": "code",
      "execution_count": null,
      "metadata": {},
      "outputs": [],
      "source": [
        "# factorial of number\n",
        "def factorial(x):\n",
        "    f = 1\n",
        "    for i in range(1, x + 1):\n",
        "        f = f * i\n",
        "    print(\"Factorial of\", x, \"is\", f)\n",
        "\n",
        "\n",
        "n = int(input(\"Enter number : \"))\n",
        "if n < 0:\n",
        "    print(\"Factorial does not exist\")\n",
        "elif n == 0:\n",
        "    print(\"Factorial = 1\")\n",
        "else:\n",
        "    factorial(n)\n"
      ]
    },
    {
      "cell_type": "code",
      "execution_count": null,
      "metadata": {},
      "outputs": [],
      "source": [
        "# sum of natural numbers\n",
        "n = int(input(\"Enter number : \"))\n",
        "if n < 0:\n",
        "    print(\"Enter positive number\")\n",
        "else:\n",
        "    x = n * (n + 1) / 2\n",
        "    print(\"Sum is\", int(x))\n"
      ]
    },
    {
      "cell_type": "code",
      "execution_count": null,
      "metadata": {},
      "outputs": [],
      "source": [
        "# HCF and LCM\n",
        "def find(x, y):\n",
        "    while (y):\n",
        "        x, y = y, x % y\n",
        "    return x\n",
        "\n",
        "\n",
        "a = int(input(\"Enter first number : \"))\n",
        "b = int(input(\"Enter second number : \"))\n",
        "print(\"HCF is\", find(a, b))\n",
        "lcm = (a * b) / find(a, b)\n",
        "print(\"LCM is\", int(lcm))\n"
      ]
    },
    {
      "cell_type": "code",
      "execution_count": 1,
      "metadata": {},
      "outputs": [
        {
          "name": "stdout",
          "output_type": "stream",
          "text": [
            "{'a': 0, 'e': 0, 'i': 0, 'o': 0, 'u': 0}\n"
          ]
        }
      ],
      "source": [
        "# count vowels\n",
        "str = input(\n",
        "    \"Python will find the number of vowels in string\\nEnter a string : \")\n",
        "str = str.casefold()\n",
        "count = {x: sum([1 for char in str if char == x]) for x in \"aeiou\"}\n",
        "print(count)\n"
      ]
    },
    {
      "cell_type": "code",
      "execution_count": null,
      "metadata": {},
      "outputs": [],
      "source": [
        "# leap year or not\n",
        "yr = int(input(\"Enter year : \"))\n",
        "if (yr % 4 == 0):\n",
        "    if (yr % 100 == 0):\n",
        "        if (yr % 400 == 0):\n",
        "            print(yr, \"is a leap year\")\n",
        "        else:\n",
        "            print(yr, \"is not a leap year\")\n",
        "    else:\n",
        "        print(yr, \"is a leap year\")\n",
        "else:\n",
        "    print(yr, \"is not a leap year\")\n"
      ]
    },
    {
      "cell_type": "code",
      "execution_count": null,
      "metadata": {},
      "outputs": [],
      "source": [
        "# Roots of quadratic equation\n",
        "import cmath\n",
        "\n",
        "a = int(input(\"Coeffecient of x^2 : \"))\n",
        "b = int(input(\"Coeffecient of x : \"))\n",
        "c = int(input(\"Constant : \"))\n",
        "d = (b**2) - (4 * a * c)\n",
        "x = (-b - cmath.sqrt(d)) / (2 * a)\n",
        "y = (-b + cmath.sqrt(d)) / (2 * a)\n",
        "print(\"Roots are\", x, \"and\", y)\n"
      ]
    },
    {
      "cell_type": "code",
      "execution_count": null,
      "metadata": {},
      "outputs": [],
      "source": [
        "# fibonacci with recursion\n",
        "def fib(n):\n",
        "    if n <= 1:\n",
        "        return n\n",
        "    else:\n",
        "        return fib(n - 1) + fib(n - 2)\n",
        "\n",
        "\n",
        "num = int(input())\n",
        "for i in range(num):\n",
        "    print(fib(i))\n"
      ]
    },
    {
      "cell_type": "code",
      "execution_count": null,
      "metadata": {},
      "outputs": [],
      "source": [
        "# letter counter\n",
        "str = input()\n",
        "count = {x: sum([1 for char in str if char == x]) for x in str}\n",
        "print(count)\n"
      ]
    }
  ],
  "metadata": {
    "anaconda-cloud": {},
    "kernelspec": {
      "display_name": "Python 3",
      "language": "python",
      "name": "python3"
    },
    "language_info": {
      "codemirror_mode": {
        "name": "ipython",
        "version": 3
      },
      "file_extension": ".py",
      "mimetype": "text/x-python",
      "name": "python",
      "nbconvert_exporter": "python",
      "pygments_lexer": "ipython3",
      "version": "3.9.6"
    }
  },
  "nbformat": 4,
  "nbformat_minor": 4
}
