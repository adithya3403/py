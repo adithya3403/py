{
 "cells": [
  {
   "cell_type": "code",
   "execution_count": null,
   "source": [
    "# STACK\r\n",
    "class Stack:\r\n",
    "    def __init__(self):\r\n",
    "        self.items=[]\r\n",
    "    def is_empty(self):\r\n",
    "        return self.items==[]\r\n",
    "    def push(self, item):\r\n",
    "        self.items.insert(0, item)\r\n",
    "    def pop(self):\r\n",
    "        return self.items.pop(0)\r\n",
    "    def print_stack(self):\r\n",
    "        print(self.items)"
   ],
   "outputs": [],
   "metadata": {}
  },
  {
   "cell_type": "code",
   "execution_count": null,
   "source": [
    "#  QUEUE\r\n",
    "class Queue:\r\n",
    "    def __init__(self):\r\n",
    "        self.items=[]\r\n",
    "    def is_empty(self):\r\n",
    "        return self.items==[]\r\n",
    "    def enqueue(self, item):\r\n",
    "        self.items.insert(0, item)\r\n",
    "    def dequeue(self):\r\n",
    "        return self.items.pop()\r\n",
    "    def print_queue(self):\r\n",
    "        print(self.items)"
   ],
   "outputs": [],
   "metadata": {}
  },
  {
   "cell_type": "code",
   "execution_count": null,
   "source": [
    "# LINKED LIST\r\n",
    "class Node:\r\n",
    "    def __init__(self, data, next):\r\n",
    "        self.data=data\r\n",
    "        self.next=next\r\n",
    "\r\n",
    "class LinkedList:\r\n",
    "    def __init__(self):\r\n",
    "        self.head=None\r\n",
    "    def add_at_front(self, data):\r\n",
    "        self.head=Node(data,self.head)\r\n",
    "    def add_at_end(self, data):\r\n",
    "        if not self.head:\r\n",
    "            self.head=Node(data, None)\r\n",
    "            return\r\n",
    "        curr=self.head\r\n",
    "        while curr.next:\r\n",
    "            curr=curr.next\r\n",
    "        curr.next=Node(data, None)\r\n",
    "    def get_last_node(self):\r\n",
    "        n=self.head\r\n",
    "        while (n.next != None):\r\n",
    "            n=n.next\r\n",
    "        return n.data\r\n",
    "    def print_list(self):\r\n",
    "        n=self.head\r\n",
    "        while n!=None:\r\n",
    "            print(n.data, end= \" => \")\r\n",
    "            n=n.next\r\n",
    "        print()"
   ],
   "outputs": [],
   "metadata": {}
  },
  {
   "cell_type": "code",
   "execution_count": null,
   "source": [
    "# GRAPH\r\n",
    "class Graph:\r\n",
    "    def __init__(self, size):\r\n",
    "        self.adj=[[0]*size for i in range(size)]\r\n",
    "        self.size=size\r\n",
    "    def add_edge(self, orig, dest):\r\n",
    "        if orig>self.size or dest>self.size or orig<0 or dest<0:\r\n",
    "            print(\"Invalid Edge\")\r\n",
    "        else:\r\n",
    "            self.adj[orig-1][dest-1]=1\r\n",
    "            self.adj[dest-1][orig-1]=1\r\n",
    "    def remove_edge(self, orig, dest):\r\n",
    "        if orig>self.size or dest>self.size or orig<0 or dest<0:\r\n",
    "            print(\"Invalid Edge\")\r\n",
    "        else:\r\n",
    "            self.adj[orig-1][dest-1]=0\r\n",
    "            self.adj[dest-1][orig-1]=0\r\n",
    "    def display(self):\r\n",
    "        for rown in self.adj:\r\n",
    "            print()\r\n",
    "            for val in row:\r\n",
    "                print('{:4}'.format(val), end=\"\")"
   ],
   "outputs": [],
   "metadata": {}
  }
 ],
 "metadata": {
  "orig_nbformat": 4,
  "language_info": {
   "name": "python"
  }
 },
 "nbformat": 4,
 "nbformat_minor": 2
}