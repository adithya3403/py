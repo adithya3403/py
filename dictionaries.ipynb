{
  "cells": [
    {
      "source": [
        "BEGINNER\n"
      ],
      "cell_type": "markdown",
      "metadata": {}
    },
    {
      "cell_type": "code",
      "metadata": {},
      "source": [
        "ages={\n",
        "    \"Dave\":24,\n",
        "    \"Mary\":42,\n",
        "    \"John\":58,\n",
        "    \"Gtm\":11\n",
        "}\n",
        "print(ages[\"Mary\"])\n"
      ],
      "outputs": [],
      "execution_count": null
    },
    {
      "cell_type": "code",
      "metadata": {},
      "source": [
        "nums={\n",
        "    1:\"one\",\n",
        "    2:\"two\",\n",
        "    3:\"three\"\n",
        "}\n",
        "print(1 in nums)\n",
        "print(\"three\" in nums)\n",
        "print(4 not in nums)\n"
      ],
      "outputs": [],
      "execution_count": null
    },
    {
      "cell_type": "code",
      "metadata": {},
      "source": [
        "fib={\n",
        "    1:1,\n",
        "    2:1,\n",
        "    3:2,\n",
        "    4:3\n",
        "}\n",
        "print(fib.get(4,0)+fib.get(7,5))\n"
      ],
      "outputs": [],
      "execution_count": null
    },
    {
      "cell_type": "code",
      "metadata": {},
      "source": [
        "pairs={\n",
        "    1:\"apple\",\n",
        "    \"orange\":[2,3,4],\n",
        "    True:False,\n",
        "    12:\"True\"\n",
        "}\n",
        "print(pairs.get(\"orange\"))\n",
        "print(pairs.get(7,42))\n",
        "print(pairs.get(12345, \"not found\"))\n"
      ],
      "outputs": [],
      "execution_count": null
    },
    {
      "cell_type": "code",
      "metadata": {},
      "source": [
        "age=int(input())\n",
        "new=0\n",
        "old=0\n",
        "for x in data.values():\n",
        "    old+=5 if x<18 else 20\n",
        "for var in data.values():\n",
        "    new+=5 if var<age else 20\n",
        "if age<18:\n",
        "    print(int(new-old)/old*100)\n",
        "else:\n",
        "    print(0)\n",
        "\n",
        "\n"
      ],
      "outputs": [],
      "execution_count": null
    }
  ],
  "metadata": {
    "anaconda-cloud": {},
    "kernelspec": {
      "display_name": "Python 3",
      "language": "python",
      "name": "python3"
    },
    "language_info": {
      "codemirror_mode": {
        "name": "ipython",
        "version": 3
      },
      "file_extension": ".py",
      "mimetype": "text/x-python",
      "name": "python",
      "nbconvert_exporter": "python",
      "pygments_lexer": "ipython3",
      "version": "3.6.1"
    }
  },
  "nbformat": 4,
  "nbformat_minor": 4
}
