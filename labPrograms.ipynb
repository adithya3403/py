{
 "cells": [
  {
   "cell_type": "code",
   "execution_count": null,
   "metadata": {},
   "outputs": [],
   "source": [
    "class Robot:\n",
    "    def __init__(self, v):\n",
    "        self.v = v\n",
    "    def greet(self):\n",
    "        print(f\"Robot says hello to {self.v}.\")\n",
    "c = Robot(input('Enter your name: '))\n",
    "c.greet()\n",
    "\n",
    "class ATM:\n",
    "    def __init__(self):\n",
    "        self.balance = 50000\n",
    "    def withdraw(self, amount):\n",
    "        if (amount > self.balance):\n",
    "            print(\"Insufficient Balance\")\n",
    "        else:\n",
    "            self.balance -= amount\n",
    "            print(f'Remaining Balance: {self.balance}')\n",
    "    def deposit(self, amount):\n",
    "        self.balance += amount\n",
    "        return self.balance\n",
    "obj = ATM()\n",
    "obj.withdraw(int(input('Enter the amount to withdraw: ')))\n",
    "newbal = obj.deposit(int(input('Enter the amount to deposit: ')))\n",
    "print(f'Updated balance: {newbal}')"
   ]
  },
  {
   "cell_type": "code",
   "execution_count": null,
   "metadata": {},
   "outputs": [],
   "source": [
    "from datetime import datetime\n",
    "class Restaurant:\n",
    "    def __init__(self, name, cuisine):\n",
    "        self.name = name\n",
    "        self.cuisine = cuisine\n",
    "    def describe(self):\n",
    "        print(f'Welcome to {self.name}')\n",
    "        print(f'{self.cuisine}')\n",
    "    def open(self):\n",
    "        time = datetime.now()\n",
    "        hr = int(time.strftime(\"%H\"))\n",
    "        print('Restaurant Open') if hr >= 11 and hr <= 23 else print(\n",
    "            'Restaurant Closed')\n",
    "name, cuisine = input('Enter Restaurant Name: '), input('Enter Cuisine Type: ')\n",
    "obj = Restaurant(name, cuisine)\n",
    "obj.describe()\n",
    "obj.open()"
   ]
  },
  {
   "cell_type": "code",
   "execution_count": null,
   "metadata": {},
   "outputs": [],
   "source": [
    "def checkCFS(n):\n",
    "    for i in range(1, n // 2):\n",
    "        if (i * 4 + 6 == n):\n",
    "            return True\n",
    "    return False\n",
    "print(checkCFS(int(input('Enter number : '))))"
   ]
  },
  {
   "cell_type": "code",
   "execution_count": null,
   "metadata": {},
   "outputs": [],
   "source": [
    "n = input(\"Enter an integer: \")\n",
    "if (len(n) % 2 != 0 or int(n) <= 0):\n",
    "    print(\"Invalid number\")\n",
    "else:\n",
    "    s1, s2 = 0, 0\n",
    "    for i in range(0, len(n), 2):\n",
    "        s1 += int(n[i])\n",
    "        s2 += int(n[i + 1])\n",
    "    print(\"Difference between the sums of the digits\",\n",
    "    \"occurring in the alternate positions:\", abs(s1 - s2))"
   ]
  },
  {
   "cell_type": "code",
   "execution_count": null,
   "metadata": {},
   "outputs": [],
   "source": [
    "A = input(\"Enter a number which contains only digits 0's and 1's: \")\n",
    "c1, c2 = 0, 0\n",
    "for i in range(len(A)):\n",
    "    c1 += 1 if A[i] == '0' else 0\n",
    "    c2 += 1 if A[i] == '1' else 0\n",
    "print('YES') if c1 == len(A) - 1 or c2 == len(A) - 1 else print('NO')"
   ]
  },
  {
   "cell_type": "code",
   "execution_count": null,
   "metadata": {},
   "outputs": [],
   "source": [
    "list1 = [int(i) for i in input('Enter numbers: ').split()]\n",
    "list2 = [(i, i**3) for i in list1]\n",
    "print(\"List of tuples:\", list2)"
   ]
  },
  {
   "cell_type": "code",
   "execution_count": null,
   "metadata": {},
   "outputs": [],
   "source": [
    "n = int(input(\"Enter strength of class: \"))\n",
    "l = [int(i) for i in input(\"Enter attendance: \").split()]\n",
    "print(\"List of student IDs of the students which were absent:\")\n",
    "for i in range(1, n + 1):\n",
    "    if i not in l:\n",
    "        print(i, end=\" \")"
   ]
  },
  {
   "cell_type": "code",
   "execution_count": null,
   "metadata": {},
   "outputs": [],
   "source": [
    "count = 0\n",
    "for i in input('Enter string: '):\n",
    "    count += 2 if i == 'B' else 0\n",
    "    count += 1 if i in 'ADOPR' else 0\n",
    "print(f'Number of holes in given text: {count}')"
   ]
  },
  {
   "cell_type": "code",
   "execution_count": null,
   "metadata": {},
   "outputs": [],
   "source": [
    "file = open(\"sample_py.txt\", \"r\")\n",
    "lines = file.readlines()\n",
    "file.close()\n",
    "print('Reverse order:')\n",
    "for line in lines[::-1]:\n",
    "    print(line, end='\\n')\n",
    "w, c = 0, 0\n",
    "for line in lines:\n",
    "    w += len(line.split())\n",
    "    c += len(line) - line.count('\\n')\n",
    "print(\"Number of lines:\", len(lines))\n",
    "print(\"Number of words:\", w)\n",
    "print(\"Number of characters:\", c)"
   ]
  },
  {
   "cell_type": "code",
   "execution_count": null,
   "metadata": {},
   "outputs": [],
   "source": [
    "def collatz(n):\n",
    "    return n // 2 if n % 2 == 0 else 3 * n + 1\n",
    "try:\n",
    "    n = int(input('Enter a number: '))\n",
    "    while n != 1:\n",
    "        n = collatz(n)\n",
    "        print(n, end=' ')\n",
    "except ValueError:\n",
    "    print('Please enter a valid INTEGER')"
   ]
  },
  {
   "cell_type": "code",
   "execution_count": null,
   "metadata": {},
   "outputs": [],
   "source": [
    "import re, os\n",
    "file = open('text.txt', 'r')\n",
    "lines = file.read().split()\n",
    "file.close()\n",
    "for i in lines:\n",
    "    if re.search(r'^\\+?\\d{2,3}-?\\d{6,10}$', i):\n",
    "        file = open('phone.txt', 'a')\n",
    "        file.write(i + '\\n')\n",
    "        file.close()\n",
    "    else:\n",
    "        pass\n",
    "for i in lines:\n",
    "    if re.search(r'^\\w+@\\w+\\.\\w+$', i):\n",
    "        file = open('email.txt', 'a')\n",
    "        file.write(i + '\\n')\n",
    "        file.close()\n",
    "    else:\n",
    "        pass\n",
    "file = open('output.txt', 'w')\n",
    "file.write('Mail IDs:\\n')\n",
    "file.write(open('email.txt', 'r').read())\n",
    "file.write('\\nPhone Numbers:\\n')\n",
    "file.write(open('phone.txt', 'r').read())\n",
    "file.close()\n",
    "file = open('email.txt', 'r')\n",
    "emails = file.read().split()\n",
    "file.close()\n",
    "print(len(emails), 'emails collected!')\n",
    "file = open('phone.txt', 'r')\n",
    "phones = file.read().split()\n",
    "file.close()\n",
    "print(len(phones), 'phone numbers collected!')\n",
    "os.remove('email.txt')\n",
    "os.remove('phone.txt')"
   ]
  }
 ],
 "metadata": {
  "interpreter": {
   "hash": "e543ab9b8c4f075df23c749398311b23b31acc3b527c15251293494edac362a5"
  },
  "kernelspec": {
   "display_name": "Python 3.9.6 64-bit",
   "language": "python",
   "name": "python3"
  },
  "language_info": {
   "codemirror_mode": {
    "name": "ipython",
    "version": 3
   },
   "file_extension": ".py",
   "mimetype": "text/x-python",
   "name": "python",
   "nbconvert_exporter": "python",
   "pygments_lexer": "ipython3",
   "version": "3.9.6"
  },
  "orig_nbformat": 4
 },
 "nbformat": 4,
 "nbformat_minor": 2
}
